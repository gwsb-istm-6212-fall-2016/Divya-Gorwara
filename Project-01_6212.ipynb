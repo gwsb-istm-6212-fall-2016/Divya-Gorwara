{
 "cells": [
  {
   "cell_type": "markdown",
   "metadata": {},
   "source": [
    "Divya Gorwara Project-01_6212"
   ]
  },
  {
   "cell_type": "markdown",
   "metadata": {},
   "source": [
    "Problem 1 - part 1"
   ]
  },
  {
   "cell_type": "code",
   "execution_count": 1,
   "metadata": {
    "collapsed": false
   },
   "outputs": [
    {
     "name": "stdout",
     "output_type": "stream",
     "text": [
      "--2016-09-23 13:29:49--  https://raw.githubusercontent.com/gwsb-istm-6212-fall-2016/syllabus-and-schedule/master/projects/project-01/women.txt\n",
      "Resolving raw.githubusercontent.com (raw.githubusercontent.com)... 151.101.20.133\n",
      "Connecting to raw.githubusercontent.com (raw.githubusercontent.com)|151.101.20.133|:443... connected.\n",
      "HTTP request sent, awaiting response... 200 OK\n",
      "Length: 1053440 (1.0M) [text/plain]\n",
      "Saving to: ‘women.txt’\n",
      "\n",
      "women.txt           100%[=====================>]   1.00M  --.-KB/s   in 0.05s  \n",
      "\n",
      "2016-09-23 13:29:49 (21.1 MB/s) - ‘women.txt’ saved [1053440/1053440]\n",
      "\n"
     ]
    }
   ],
   "source": [
    "!wget https://raw.githubusercontent.com/gwsb-istm-6212-fall-2016/syllabus-and-schedule/master/projects/project-01/women.txt"
   ]
  },
  {
   "cell_type": "code",
   "execution_count": 2,
   "metadata": {
    "collapsed": false
   },
   "outputs": [
    {
     "name": "stdout",
     "output_type": "stream",
     "text": [
      "   1355 Jo\r\n"
     ]
    }
   ],
   "source": [
    "!grep -o -w \"Jo\" women.txt | sort | uniq -c"
   ]
  },
  {
   "cell_type": "code",
   "execution_count": 3,
   "metadata": {
    "collapsed": false
   },
   "outputs": [
    {
     "name": "stdout",
     "output_type": "stream",
     "text": [
      "    459 Beth\r\n"
     ]
    }
   ],
   "source": [
    "!grep -o -w \"Beth\" women.txt | sort | uniq -c"
   ]
  },
  {
   "cell_type": "code",
   "execution_count": 4,
   "metadata": {
    "collapsed": false
   },
   "outputs": [
    {
     "name": "stdout",
     "output_type": "stream",
     "text": [
      "    683 Meg\r\n"
     ]
    }
   ],
   "source": [
    "!grep -o -w \"Meg\" women.txt | sort | uniq -c"
   ]
  },
  {
   "cell_type": "code",
   "execution_count": 5,
   "metadata": {
    "collapsed": false
   },
   "outputs": [
    {
     "name": "stdout",
     "output_type": "stream",
     "text": [
      "    645 Amy\r\n"
     ]
    }
   ],
   "source": [
    "!grep -o -w \"Amy\" women.txt | sort | uniq -c"
   ]
  },
  {
   "cell_type": "markdown",
   "metadata": {},
   "source": [
    "Problem 1 - part 2"
   ]
  },
  {
   "cell_type": "code",
   "execution_count": 6,
   "metadata": {
    "collapsed": false
   },
   "outputs": [
    {
     "name": "stdout",
     "output_type": "stream",
     "text": [
      "--2016-09-23 13:29:50--  https://raw.githubusercontent.com/gwsb-istm-6212-fall-2016/syllabus-and-schedule/master/projects/project-01/romeo.txt\n",
      "Resolving raw.githubusercontent.com (raw.githubusercontent.com)... 151.101.20.133\n",
      "Connecting to raw.githubusercontent.com (raw.githubusercontent.com)|151.101.20.133|:443... connected.\n",
      "HTTP request sent, awaiting response... 200 OK\n",
      "Length: 178983 (175K) [text/plain]\n",
      "Saving to: ‘romeo.txt’\n",
      "\n",
      "romeo.txt           100%[=====================>] 174.79K  --.-KB/s   in 0.02s  \n",
      "\n",
      "2016-09-23 13:29:50 (8.22 MB/s) - ‘romeo.txt’ saved [178983/178983]\n",
      "\n"
     ]
    }
   ],
   "source": [
    "!wget https://raw.githubusercontent.com/gwsb-istm-6212-fall-2016/syllabus-and-schedule/master/projects/project-01/romeo.txt"
   ]
  },
  {
   "cell_type": "code",
   "execution_count": 7,
   "metadata": {
    "collapsed": false
   },
   "outputs": [
    {
     "name": "stdout",
     "output_type": "stream",
     "text": [
      "163\r\n"
     ]
    }
   ],
   "source": [
    "!grep \"Rom. \" romeo.txt | wc -l"
   ]
  },
  {
   "cell_type": "code",
   "execution_count": 8,
   "metadata": {
    "collapsed": false
   },
   "outputs": [
    {
     "name": "stdout",
     "output_type": "stream",
     "text": [
      "117\r\n"
     ]
    }
   ],
   "source": [
    "!grep \"Jul. \" romeo.txt | wc -l"
   ]
  },
  {
   "cell_type": "markdown",
   "metadata": {},
   "source": [
    "Problem 2 - part 1"
   ]
  },
  {
   "cell_type": "code",
   "execution_count": 9,
   "metadata": {
    "collapsed": false
   },
   "outputs": [
    {
     "name": "stdout",
     "output_type": "stream",
     "text": [
      "--2016-09-23 13:29:50--  https://raw.githubusercontent.com/gwsb-istm-6212-fall-2016/syllabus-and-schedule/master/projects/project-01/2016q1.csv.zip\n",
      "Resolving raw.githubusercontent.com (raw.githubusercontent.com)... 151.101.20.133\n",
      "Connecting to raw.githubusercontent.com (raw.githubusercontent.com)|151.101.20.133|:443... connected.\n",
      "HTTP request sent, awaiting response... 200 OK\n",
      "Length: 10643003 (10M) [application/octet-stream]\n",
      "Saving to: ‘2016q1.csv.zip’\n",
      "\n",
      "2016q1.csv.zip      100%[=====================>]  10.15M  46.3MB/s   in 0.2s   \n",
      "\n",
      "2016-09-23 13:29:50 (46.3 MB/s) - ‘2016q1.csv.zip’ saved [10643003/10643003]\n",
      "\n"
     ]
    }
   ],
   "source": [
    "!wget https://raw.githubusercontent.com/gwsb-istm-6212-fall-2016/syllabus-and-schedule/master/projects/project-01/2016q1.csv.zip"
   ]
  },
  {
   "cell_type": "code",
   "execution_count": 10,
   "metadata": {
    "collapsed": false
   },
   "outputs": [
    {
     "name": "stdout",
     "output_type": "stream",
     "text": [
      "Archive:  2016q1.csv.zip\n",
      "  inflating: 2016q1.csv              \n"
     ]
    }
   ],
   "source": [
    "!unzip 2016q1.csv.zip"
   ]
  },
  {
   "cell_type": "code",
   "execution_count": 11,
   "metadata": {
    "collapsed": false
   },
   "outputs": [
    {
     "name": "stdout",
     "output_type": "stream",
     "text": [
      "Duration (ms),Start date,End date,Start station number,Start station,End station number,End station,Bike number,Member Type\r",
      "\r\n",
      "301295,3/31/2016 23:59,4/1/2016 0:04,31280,11th & S St NW,31506,1st & Rhode Island Ave NW,W00022,Registered\r",
      "\r\n",
      "557887,3/31/2016 23:59,4/1/2016 0:08,31275,New Hampshire Ave & 24th St NW,31114,18th St & Wyoming Ave NW,W01294,Registered\r",
      "\r\n",
      "555944,3/31/2016 23:59,4/1/2016 0:08,31101,14th & V St NW,31221,18th & M St NW,W01416,Registered\r",
      "\r\n",
      "766916,3/31/2016 23:57,4/1/2016 0:09,31226,34th St & Wisconsin Ave NW,31214,17th & Corcoran St NW,W01090,Registered\r",
      "\r\n",
      "139656,3/31/2016 23:57,3/31/2016 23:59,31011,23rd & Crystal Dr,31009,27th & Crystal Dr,W21934,Registered\r",
      "\r\n",
      "967713,3/31/2016 23:57,4/1/2016 0:13,31266,11th & M St NW,31600,5th & K St NW,W20562,Casual\r",
      "\r\n",
      "534836,3/31/2016 23:57,4/1/2016 0:06,31222,New York Ave & 15th St NW,31278,18th & R St NW,W20222,Registered\r",
      "\r\n",
      "243864,3/31/2016 23:56,4/1/2016 0:00,31228,8th & H St NW,31600,5th & K St NW,W20291,Registered\r",
      "\r\n",
      "372524,3/31/2016 23:55,4/1/2016 0:01,31113,Columbia Rd & Belmont St NW,31234,20th & O St NW / Dupont South,W20590,Registered\r",
      "\r\n"
     ]
    }
   ],
   "source": [
    "!head 2016q1.csv"
   ]
  },
  {
   "cell_type": "code",
   "execution_count": 12,
   "metadata": {
    "collapsed": false
   },
   "outputs": [
    {
     "name": "stdout",
     "output_type": "stream",
     "text": [
      "  1: Duration (ms)\r\n",
      "  2: Start date\r\n",
      "  3: End date\r\n",
      "  4: Start station number\r\n",
      "  5: Start station\r\n",
      "  6: End station number\r\n",
      "  7: End station\r\n",
      "  8: Bike number\r\n",
      "  9: Member Type\r\n"
     ]
    }
   ],
   "source": [
    "!csvcut -n 2016q1.csv"
   ]
  },
  {
   "cell_type": "code",
   "execution_count": 13,
   "metadata": {
    "collapsed": false
   },
   "outputs": [
    {
     "name": "stdout",
     "output_type": "stream",
     "text": [
      "  13120 Columbus Circle / Union Station\r\n",
      "   9560 Massachusetts Ave & Dupont Circle NW\r\n",
      "   9388 Lincoln Memorial\r\n",
      "   8138 Jefferson Dr & 14th St SW\r\n",
      "   7479 Thomas Circle\r\n",
      "   7401 15th & P St NW\r\n",
      "   6568 14th & V St NW\r\n",
      "   6491 New Hampshire Ave & T St NW\r\n",
      "   5649 Eastern Market Metro / Pennsylvania Ave & 7th St SE\r\n",
      "   5514 17th & Corcoran St NW\r\n"
     ]
    }
   ],
   "source": [
    "!csvcut -c5 2016q1.csv | csvsort | uniq -c | sort -rn | head -10 "
   ]
  },
  {
   "cell_type": "code",
   "execution_count": 14,
   "metadata": {
    "collapsed": false
   },
   "outputs": [
    {
     "name": "stdout",
     "output_type": "stream",
     "text": [
      "  13880 Columbus Circle / Union Station\r\n",
      "  11183 Massachusetts Ave & Dupont Circle NW\r\n",
      "   9419 Lincoln Memorial\r\n",
      "   8975 Jefferson Dr & 14th St SW\r\n",
      "   8092 15th & P St NW\r\n",
      "   7267 14th & V St NW\r\n",
      "   6997 Thomas Circle\r\n",
      "   6245 New Hampshire Ave & T St NW\r\n",
      "   5761 5th & K St NW\r\n",
      "   5651 17th & Corcoran St NW\r\n"
     ]
    }
   ],
   "source": [
    "!csvcut -c7 2016q1.csv | csvsort | uniq -c | sort -rn | head -10"
   ]
  },
  {
   "cell_type": "markdown",
   "metadata": {},
   "source": [
    "Problem 2 - part 2"
   ]
  },
  {
   "cell_type": "code",
   "execution_count": 15,
   "metadata": {
    "collapsed": false
   },
   "outputs": [
    {
     "name": "stdout",
     "output_type": "stream",
     "text": [
      "     17 Columbus Circle / Union Station,W22227\r\n",
      "     16 Columbus Circle / Union Station,W21867\r\n",
      "     16 Columbus Circle / Union Station,W21641\r\n",
      "     16 Columbus Circle / Union Station,W21538\r\n",
      "     16 Columbus Circle / Union Station,W21239\r\n",
      "     16 Columbus Circle / Union Station,W20540\r\n",
      "     16 Columbus Circle / Union Station,W00714\r\n",
      "     15 Columbus Circle / Union Station,W22080\r\n",
      "     15 Columbus Circle / Union Station,W21450\r\n",
      "     15 Columbus Circle / Union Station,W21076\r\n",
      "sort: write failed: standard output: Broken pipe\r\n",
      "sort: write error\r\n"
     ]
    }
   ],
   "source": [
    "!csvcut -c5,8 2016q1.csv | csvgrep -c1 -m \"Columbus Circle / Union Station\" | csvsort | uniq -c | sort -rn | head -10"
   ]
  },
  {
   "cell_type": "code",
   "execution_count": 16,
   "metadata": {
    "collapsed": false
   },
   "outputs": [
    {
     "name": "stdout",
     "output_type": "stream",
     "text": [
      "     18 Columbus Circle / Union Station,W00485\r\n",
      "     17 Columbus Circle / Union Station,W22227\r\n",
      "     16 Columbus Circle / Union Station,W22099\r\n",
      "     16 Columbus Circle / Union Station,W22080\r\n",
      "     16 Columbus Circle / Union Station,W21239\r\n",
      "     16 Columbus Circle / Union Station,W21076\r\n",
      "     16 Columbus Circle / Union Station,W20425\r\n",
      "     16 Columbus Circle / Union Station,W00714\r\n",
      "     15 Columbus Circle / Union Station,W21997\r\n",
      "     15 Columbus Circle / Union Station,W21867\r\n",
      "sort: write failed: standard output: Broken pipe\r\n",
      "sort: write error\r\n"
     ]
    }
   ],
   "source": [
    "!csvcut -c7,8 2016q1.csv | csvgrep -c1 -m \"Columbus Circle / Union Station\" | csvsort | uniq -c | sort -rn | head -10"
   ]
  },
  {
   "cell_type": "markdown",
   "metadata": {},
   "source": [
    "Problem 3 - part 1"
   ]
  },
  {
   "cell_type": "code",
   "execution_count": 40,
   "metadata": {
    "collapsed": false
   },
   "outputs": [
    {
     "name": "stdout",
     "output_type": "stream",
     "text": [
      "   8155 and\r\n",
      "   7689 the\r\n",
      "   5152 to\r\n",
      "   3523 of\r\n",
      "   3245 her\r\n",
      "   2774 it\r\n",
      "   2503 in\r\n",
      "   2447 you\r\n",
      "   2343 she\r\n",
      "   2233 for\r\n",
      "sort: write failed: standard output: Broken pipe\r\n",
      "sort: write error\r\n"
     ]
    }
   ],
   "source": [
    "!cat women.txt | grep -oE '\\w{{2,}}' | tr '[:upper:]' '[:lower:]' | sort | uniq -c | sort -rn | head -10"
   ]
  },
  {
   "cell_type": "code",
   "execution_count": 41,
   "metadata": {
    "collapsed": false
   },
   "outputs": [],
   "source": [
    "!chmod +x texttoword.py"
   ]
  },
  {
   "cell_type": "code",
   "execution_count": 42,
   "metadata": {
    "collapsed": true
   },
   "outputs": [],
   "source": [
    "!chmod +x lowercase.py"
   ]
  },
  {
   "cell_type": "code",
   "execution_count": 43,
   "metadata": {
    "collapsed": false
   },
   "outputs": [
    {
     "name": "stdout",
     "output_type": "stream",
     "text": [
      "   8061 and\r\n",
      "   7622 the\r\n",
      "   5127 to\r\n",
      "   3495 of\r\n",
      "   3207 her\r\n",
      "   2481 in\r\n",
      "   2248 she\r\n",
      "   2211 it\r\n",
      "   2209 for\r\n",
      "   2029 was\r\n",
      "sort: write failed: standard output: Broken pipe\r\n",
      "sort: write error\r\n"
     ]
    }
   ],
   "source": [
    "!cat women.txt | ./texttoword.py | ./lowercase.py | sort | uniq -c | sort -rn | head -10"
   ]
  },
  {
   "cell_type": "markdown",
   "metadata": {
    "collapsed": false
   },
   "source": [
    "Problem 3 - Part 2"
   ]
  },
  {
   "cell_type": "code",
   "execution_count": 36,
   "metadata": {
    "collapsed": false
   },
   "outputs": [],
   "source": [
    "!chmod +x stopword.py"
   ]
  },
  {
   "cell_type": "code",
   "execution_count": 38,
   "metadata": {
    "collapsed": false
   },
   "outputs": [
    {
     "name": "stdout",
     "output_type": "stream",
     "text": [
      "   8061 and\r\n",
      "   7622 the\r\n",
      "   3207 her\r\n",
      "   2678 i\r\n",
      "   2481 in\r\n",
      "   2248 she\r\n",
      "   2209 for\r\n",
      "   1969 you\r\n",
      "   1967 as\r\n",
      "   1847 with\r\n",
      "   1770 that\r\n",
      "   1471 he\r\n",
      "   1440 but\r\n",
      "   1176 jo\r\n",
      "   1115 his\r\n",
      "   1069 so\r\n",
      "   1060 had\r\n",
      "   1001 be\r\n",
      "    954 on\r\n",
      "    868 not\r\n",
      "    861 if\r\n",
      "    842 all\r\n",
      "    824 said\r\n",
      "    797 my\r\n",
      "    733 him\r\n",
      "sort: write failed: standard output: Broken pipe\r\n",
      "sort: write error\r\n"
     ]
    }
   ],
   "source": [
    "!cat women.txt | ./stopword.py | sort | uniq -c | sort -rn | head -25"
   ]
  },
  {
   "cell_type": "markdown",
   "metadata": {},
   "source": [
    "The stop words used in the code are: a, an, of, is, was, to, at, it, or, will"
   ]
  },
  {
   "cell_type": "code",
   "execution_count": null,
   "metadata": {
    "collapsed": false
   },
   "outputs": [],
   "source": []
  },
  {
   "cell_type": "code",
   "execution_count": null,
   "metadata": {
    "collapsed": true
   },
   "outputs": [],
   "source": []
  }
 ],
 "metadata": {
  "kernelspec": {
   "display_name": "Python 3",
   "language": "python",
   "name": "python3"
  },
  "language_info": {
   "codemirror_mode": {
    "name": "ipython",
    "version": 3
   },
   "file_extension": ".py",
   "mimetype": "text/x-python",
   "name": "python",
   "nbconvert_exporter": "python",
   "pygments_lexer": "ipython3",
   "version": "3.5.2"
  }
 },
 "nbformat": 4,
 "nbformat_minor": 0
}
