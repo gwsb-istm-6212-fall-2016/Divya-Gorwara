{
 "cells": [
  {
   "cell_type": "markdown",
   "metadata": {},
   "source": [
    "# Project 02 - Due Friday, November 11 at 12pm\n",
    "\n",
    "*Objectives*: Gain experience loading a transactional dataset into a relational database model you define yourself and using SQL to explore its contents. Transform the data into a star schema, documenting the schema visually, and explore the transformed data analytically by writing and executing a number of SQL queries using common syntax and functions and describing your findings.  Gain practice working on these tasks with a partner.\n",
    "\n",
    "*Grading criteria*: The tasks should all be completed, and questions should all be answered with SQL queries, diagrams, and charts in the space provided, unless a text answer is requested.  The notebook itself should be completely reproducible at datanotebook.org, from start to finish: another person should be able to use the same code to obtain the same results as yours.  Note that you will receive no more than partial credit if you do not add text/markdown cells explaining your thinking at each major step in each problem.\n",
    "\n",
    "*Attestation*: **Work in pairs**.  At the end of your submitted notebook, identify the work each partner performed and attest that each contributed substantially to the work.\n",
    "\n",
    "*Deadline*: Friday, November 11, 12pm.  One member of each pair must submit your notebook to Blackboard; you should not both submit it separately.  You may each push a copy to your own GitHub repository.\n",
    "\n",
    "\n",
    "## Setup - select and obtain data\n",
    "\n",
    "The US City Open Data Census has a variety of [transactional data from all over the country](http://us-city.census.okfn.org/).  Select one topic and one city from this Census, download the data, and explain your reason for this choice before proceeding.  Provide a link to the web page for the data set you've chosen.\n",
    "\n",
    "I strongly encourage you to select a dataset from among the following topics:  Crime, Property Assessment, Campaign Finance Contributions, Service Requests (311), and Web Analytics.\n",
    "\n",
    "By *transactional* data I mean records at the grain of one event per business process.  In the case of Service Requests (311), for example, that would require data at the level of each individual report of a service request.  If this isn't clear, think about the bike trip data - each individual ride was included - and look for data at that level of event/process specificity.  Avoid data like the Connecticut boating data, which was summarized by year, not individual transactions.\n",
    "\n",
    "Please aim for a dataset of at least 10,000 individual records, but less than 250,000 records.  A little more or a little less is okay, but try to stay within these limits."
   ]
  },
  {
   "cell_type": "markdown",
   "metadata": {},
   "source": [
    "## Problem 1 - examine the data (20 points)\n",
    "\n",
    "Use `csvstat`, `pandas`, or other tools as you see fit and observe the contents of your dataset.  Review important points from any metadata provided.  Describe what you see:  What do the columns mean?  Are there null values?  Which columns interest you the most?  Which columns present some opportunities, challenges, or questions you would like to ask?"
   ]
  },
  {
   "cell_type": "markdown",
   "metadata": {},
   "source": [
    "Note: Joining the facts table to dimension tables query will take a longer time to run but it works."
   ]
  },
  {
   "cell_type": "markdown",
   "metadata": {},
   "source": [
    "### Our Approach to Problem 1:\n",
    "\n",
    "In the next few blocks of code, we established a connection to the database, read in a CSV file, examined the number of records, examined the names of the variables, examined sample stats for a sample of the data, and began to explore the data with a few command line commands."
   ]
  },
  {
   "cell_type": "code",
   "execution_count": 1,
   "metadata": {
    "collapsed": false
   },
   "outputs": [
    {
     "name": "stdout",
     "output_type": "stream",
     "text": [
      "[sudo] password for jovyan: Restarting PostgreSQL 9.5 database server: main.\n"
     ]
    }
   ],
   "source": [
    "!echo 'redspot' | sudo -S service postgresql restart"
   ]
  },
  {
   "cell_type": "code",
   "execution_count": 2,
   "metadata": {
    "collapsed": false
   },
   "outputs": [],
   "source": [
    "!createdb -U dbuser BPD_arrests"
   ]
  },
  {
   "cell_type": "code",
   "execution_count": 3,
   "metadata": {
    "collapsed": false
   },
   "outputs": [
    {
     "name": "stdout",
     "output_type": "stream",
     "text": [
      "--2016-11-11 08:29:32--  https://raw.githubusercontent.com/gwsb-istm-6212-fall-2016/Divya-Gorwara/master/BPD_Arrests.csv\n",
      "Resolving raw.githubusercontent.com (raw.githubusercontent.com)... 151.101.32.133\n",
      "Connecting to raw.githubusercontent.com (raw.githubusercontent.com)|151.101.32.133|:443... connected.\n",
      "HTTP request sent, awaiting response... 200 OK\n",
      "Length: 19703253 (19M) [text/plain]\n",
      "Saving to: ‘BPD_Arrests.csv’\n",
      "\n",
      "BPD_Arrests.csv     100%[=====================>]  18.79M  71.3MB/s   in 0.3s   \n",
      "\n",
      "2016-11-11 08:29:33 (71.3 MB/s) - ‘BPD_Arrests.csv’ saved [19703253/19703253]\n",
      "\n"
     ]
    }
   ],
   "source": [
    "!wget https://raw.githubusercontent.com/gwsb-istm-6212-fall-2016/Divya-Gorwara/master/BPD_Arrests.csv"
   ]
  },
  {
   "cell_type": "code",
   "execution_count": 4,
   "metadata": {
    "collapsed": false
   },
   "outputs": [
    {
     "name": "stdout",
     "output_type": "stream",
     "text": [
      "129026 BPD_Arrests.csv\r\n"
     ]
    }
   ],
   "source": [
    "!wc -l BPD_Arrests.csv"
   ]
  },
  {
   "cell_type": "code",
   "execution_count": 5,
   "metadata": {
    "collapsed": false
   },
   "outputs": [
    {
     "name": "stdout",
     "output_type": "stream",
     "text": [
      "  1: Arrest\r\n",
      "  2: Age\r\n",
      "  3: Sex\r\n",
      "  4: Race\r\n",
      "  5: ArrestDate\r\n",
      "  6: ArrestTime\r\n",
      "  7: ArrestLocation\r\n",
      "  8: IncidentOffense\r\n",
      "  9: IncidentLocation\r\n",
      " 10: Charge\r\n",
      " 11: ChargeDescription\r\n",
      " 12: District\r\n",
      " 13: Post\r\n",
      " 14: Neighborhood\r\n",
      " 15: Location 1\r\n"
     ]
    }
   ],
   "source": [
    "!csvcut -n BPD_Arrests.csv"
   ]
  },
  {
   "cell_type": "code",
   "execution_count": 6,
   "metadata": {
    "collapsed": false
   },
   "outputs": [
    {
     "name": "stdout",
     "output_type": "stream",
     "text": [
      "  1. 16016408\r\n",
      "\t<class 'int'>\r\n",
      "\tNulls: True\r\n",
      "\tMin: 13610635\r\n",
      "\tMax: 16128732\r\n",
      "\tSum: 1414400471\r\n",
      "\tMean: 14581448.154639175\r\n",
      "\tMedian: 14106870\r\n",
      "\tStandard Deviation: 917725.6258565299\r\n",
      "\tUnique values: 97\r\n",
      "  2. 24\r\n",
      "\t<class 'int'>\r\n",
      "\tNulls: False\r\n",
      "\tMin: 18\r\n",
      "\tMax: 65\r\n",
      "\tSum: 3302\r\n",
      "\tMean: 33.35353535353536\r\n",
      "\tMedian: 29\r\n",
      "\tStandard Deviation: 12.83407170745841\r\n",
      "\tUnique values: 37\r\n",
      "\t5 most frequent values:\r\n",
      "\t\t25:\t8\r\n",
      "\t\t28:\t6\r\n",
      "\t\t22:\t6\r\n",
      "\t\t21:\t5\r\n",
      "\t\t20:\t5\r\n",
      "  3. M\r\n",
      "\t<class 'str'>\r\n",
      "\tNulls: False\r\n",
      "\tValues: M, F\r\n",
      "  4. W\r\n",
      "\t<class 'str'>\r\n",
      "\tNulls: False\r\n",
      "\tValues: U, A, W, B\r\n",
      "  5. 02/03/2016\r\n",
      "\t<class 'datetime.date'>\r\n",
      "\tNulls: False\r\n",
      "\tMin: 2013-01-01\r\n",
      "\tMax: 2016-09-07\r\n",
      "\tUnique values: 92\r\n",
      "\t5 most frequent values:\r\n",
      "\t\t2013-10-18:\t2\r\n",
      "\t\t2016-08-31:\t2\r\n",
      "\t\t2015-08-14:\t2\r\n",
      "\t\t2014-01-28:\t2\r\n",
      "\t\t2014-04-14:\t2\r\n",
      "  6. 13:00\r\n",
      "\t<class 'str'>\r\n",
      "\tNulls: False\r\n",
      "\tUnique values: 83\r\n",
      "\t5 most frequent values:\r\n",
      "\t\t17:00:\t3\r\n",
      "\t\t20:00:\t3\r\n",
      "\t\t00:00:\t2\r\n",
      "\t\t22:00:\t2\r\n",
      "\t\t19:30:\t2\r\n",
      "\tMax length: 5\r\n",
      "  7. 4000 8TH ST\r\n",
      "\t<class 'str'>\r\n",
      "\tNulls: True\r\n",
      "\tUnique values: 57\r\n",
      "\t5 most frequent values:\r\n",
      "\t\t1600 W NORTH AVE:\t2\r\n",
      "\t\t200 S HAVEN ST:\t1\r\n",
      "\t\t2800 BOARMAN AVE:\t1\r\n",
      "\t\tUNIT S CALVERTON RD:\t1\r\n",
      "\t\t3100 PRESSTMAN ST:\t1\r\n",
      "\tMax length: 22\r\n",
      "  8. Unknown Offense\r\n",
      "\t<class 'str'>\r\n",
      "\tNulls: False\r\n",
      "\tUnique values: 19\r\n",
      "\t5 most frequent values:\r\n",
      "\t\tUnknown Offense:\t54\r\n",
      "\t\t87-Narcotics:\t16\r\n",
      "\t\tUNKNOWN OFFENSE:\t6\r\n",
      "\t\t87O-Narcotics (Outside):\t3\r\n",
      "\t\t4E-Common Assault:\t3\r\n",
      "\tMax length: 28\r\n",
      "  9. 4000 8Th St\r\n",
      "\t<class 'str'>\r\n",
      "\tNulls: True\r\n",
      "\tUnique values: 59\r\n",
      "\tMax length: 28\r\n",
      " 10. 4 3550\r\n",
      "\t<class 'datetime.datetime'>\r\n",
      "\tNulls: True\r\n",
      "\tMin: 0233-01-31 00:00:00\r\n",
      "\tMax: 9999-12-29 01:00:00\r\n",
      "\tUnique values: 27\r\n",
      "\t5 most frequent values:\r\n",
      "\t\t3550-04-30 00:00:00:\t15\r\n",
      "\t\t1415-01-31 00:00:00:\t15\r\n",
      "\t\t1977-01-31 00:00:00:\t10\r\n",
      "\t\t1093-01-31 00:00:00:\t6\r\n",
      "\t\t1635-01-31 00:00:00:\t5\r\n",
      " 11. Cds:Possess-Not Marihuana || Poss Heroin\r\n",
      "\t<class 'str'>\r\n",
      "\tNulls: False\r\n",
      "\tUnique values: 65\r\n",
      "\t5 most frequent values:\r\n",
      "\t\tFailure To Appear || Failure To Appear:\t8\r\n",
      "\t\tCds:Possess-Not Marihuana || Cds:\t6\r\n",
      "\t\tProstitution-General || Prostitution:\t5\r\n",
      "\t\tAsslt-Sec Degree || Assault-Sec Degree:\t5\r\n",
      "\t\tAsslt-Sec Degree || Common Assault:\t4\r\n",
      "\tMax length: 54\r\n",
      " 12. Southern\r\n",
      "\t<class 'str'>\r\n",
      "\tNulls: True\r\n",
      "\tUnique values: 9\r\n",
      "\t5 most frequent values:\r\n",
      "\t\tSouthern:\t11\r\n",
      "\t\tWestern:\t11\r\n",
      "\t\tCentral:\t9\r\n",
      "\t\tNortheastern:\t7\r\n",
      "\t\tSoutheastern:\t6\r\n",
      "\tMax length: 12\r\n",
      " 13. 913\r\n",
      "\t<class 'int'>\r\n",
      "\tNulls: True\r\n",
      "\tMin: 111\r\n",
      "\tMax: 935\r\n",
      "\tSum: 31049\r\n",
      "\tMean: 535.3275862068965\r\n",
      "\tMedian: 524.5\r\n",
      "\tStandard Deviation: 289.1202105276504\r\n",
      "\tUnique values: 45\r\n",
      "\t5 most frequent values:\r\n",
      "\t\t724:\t3\r\n",
      "\t\t315:\t2\r\n",
      "\t\t922:\t2\r\n",
      "\t\t733:\t2\r\n",
      "\t\t721:\t2\r\n",
      " 14. BROOKLYN\r\n",
      "\t<class 'str'>\r\n",
      "\tNulls: True\r\n",
      "\tUnique values: 45\r\n",
      "\t5 most frequent values:\r\n",
      "\t\tDOWNTOWN:\t4\r\n",
      "\t\tBROOKLYN:\t4\r\n",
      "\t\tPENROSE/FAYETTE STREET OUTREACH:\t2\r\n",
      "\t\tPENN NORTH:\t2\r\n",
      "\t\tNEW SOUTHWEST/MOUNT CLARE:\t2\r\n",
      "\tMax length: 31\r\n",
      " 15. (39.2308751378, -76.6015825097)\r\n",
      "\t<class 'str'>\r\n",
      "\tNulls: True\r\n",
      "\tUnique values: 58\r\n",
      "\tMax length: 31\r\n",
      "\r\n",
      "Row count: 99\r\n"
     ]
    }
   ],
   "source": [
    "!shuf -n 100 BPD_Arrests.csv | csvstat"
   ]
  },
  {
   "cell_type": "code",
   "execution_count": 7,
   "metadata": {
    "collapsed": false
   },
   "outputs": [
    {
     "name": "stdout",
     "output_type": "stream",
     "text": [
      "|------+------------+----------------------------|\r\n",
      "|  Sex | ArrestTime | IncidentLocation           |\r\n",
      "|------+------------+----------------------------|\r\n",
      "|  M   | 23:00      | 400 N FRANKLINTOWN RD      |\r\n",
      "|  M   | 23:00      | W NORTH AV & N CHARLES ST  |\r\n",
      "|  M   | 22:45      | 2300 JEFFERSON ST          |\r\n",
      "|  M   | 22:40      | 3500 NOBLE ST              |\r\n",
      "|  F   | 22:22      | 2100 WILHELM ST            |\r\n",
      "|  M   | 22:00      | 0 N HOWARD ST              |\r\n",
      "|  M   | 21:50      | 500 E PATAPSCO AVE         |\r\n",
      "|  M   | 21:50      | 1500 HARFORD AVE           |\r\n",
      "|  M   | 21:15      | 2100 HARFORD RD            |\r\n",
      "|------+------------+----------------------------|\r\n"
     ]
    }
   ],
   "source": [
    "!csvcut -c3,6,9 BPD_Arrests.csv | head -10 | csvlook"
   ]
  },
  {
   "cell_type": "code",
   "execution_count": 8,
   "metadata": {
    "collapsed": false
   },
   "outputs": [
    {
     "name": "stdout",
     "output_type": "stream",
     "text": [
      "|------+------------+-------------------|\r\n",
      "|  Sex | ArrestTime | IncidentLocation  |\r\n",
      "|------+------------+-------------------|\r\n",
      "|  M   | 13.30      | 2100 HARFORD RD   |\r\n",
      "|  M   | 15.40      | 2100 HARFORD RD   |\r\n",
      "|  M   | 21:15      | 2100 HARFORD RD   |\r\n",
      "|  M   | 22.00      | 2100 HARFORD RD   |\r\n",
      "|------+------------+-------------------|\r\n"
     ]
    }
   ],
   "source": [
    "!csvcut -c3,6,9 BPD_Arrests.csv | csvgrep -c3 -m '2100 HARFORD RD' | csvsort -c2 | head -10 | csvlook"
   ]
  },
  {
   "cell_type": "markdown",
   "metadata": {},
   "source": [
    "## Problem 2 - define a database model, load the data, and explore (20 points)\n",
    "\n",
    "Based on what you found above, create and connect to a new database, define a database table in it, and load this dataset into it.  You may use either of the methods for this step you have seen in earlier class notebooks.  You may choose to eliminate variables/columns if they are not relevant or interesting to you - explain your reasoning if you do.  Either way, you should load a majority of the columns present in the source dataset as it is in its raw form into the database, and all of its rows.\n",
    "\n",
    "Once your data has loaded successfully, run a `COUNT(*)` query to verify that all the data has loaded correctly.\n",
    "\n",
    "Explore the data to zero in on a few themes you would like to further study analytically.  Discuss columns that present opportunities for extraction into dimensions, and identify the specific columns that contain facts you want to measure."
   ]
  },
  {
   "cell_type": "markdown",
   "metadata": {},
   "source": [
    "### Our Approach to Problem 2:\n",
    "\n",
    "Using the sample stats from problem 1, we estimated how much space to allocate to each of the variables that we wanted to include in our database from the orgininal data file.  Once we created the bpd_table, we made a copy of it so that we could work from a version that was not the original (in case we ever had to reference the original file).\n",
    "\n",
    "We then ran a query to verify that the number of rows in the table matched the number of rows in the original data set (129025).  We then ran a few queries to further explore the data, such as identifying how many males/females have been arrested, what types of incidents have occured, and what the locations of the incidents have been."
   ]
  },
  {
   "cell_type": "code",
   "execution_count": 4,
   "metadata": {
    "collapsed": false
   },
   "outputs": [
    {
     "name": "stderr",
     "output_type": "stream",
     "text": [
      "/opt/conda/lib/python3.5/site-packages/IPython/config.py:13: ShimWarning: The `IPython.config` package has been deprecated. You should import from traitlets.config instead.\n",
      "  \"You should import from traitlets.config instead.\", ShimWarning)\n",
      "/opt/conda/lib/python3.5/site-packages/IPython/utils/traitlets.py:5: UserWarning: IPython.utils.traitlets has moved to a top-level traitlets package.\n",
      "  warn(\"IPython.utils.traitlets has moved to a top-level traitlets package.\")\n"
     ]
    }
   ],
   "source": [
    "%load_ext sql"
   ]
  },
  {
   "cell_type": "code",
   "execution_count": 5,
   "metadata": {
    "collapsed": false
   },
   "outputs": [
    {
     "data": {
      "text/plain": [
       "'Connected: dbuser@BPD_arrests'"
      ]
     },
     "execution_count": 5,
     "metadata": {},
     "output_type": "execute_result"
    }
   ],
   "source": [
    "%sql postgresql://dbuser@localhost:5432/BPD_arrests"
   ]
  },
  {
   "cell_type": "code",
   "execution_count": 6,
   "metadata": {
    "collapsed": false
   },
   "outputs": [
    {
     "name": "stdout",
     "output_type": "stream",
     "text": [
      "Done.\n",
      "Done.\n"
     ]
    },
    {
     "data": {
      "text/plain": [
       "[]"
      ]
     },
     "execution_count": 6,
     "metadata": {},
     "output_type": "execute_result"
    }
   ],
   "source": [
    "%%sql\n",
    "DROP TABLE IF EXISTS bpd_arrests;\n",
    "CREATE TABLE bpd_arrests(\n",
    "  ARREST INTEGER,\n",
    "  AGE INTEGER,\n",
    "  SEX CHAR(6),\n",
    "  RACE VARCHAR(64),\n",
    "  ARREST_DATE TIMESTAMP,\n",
    "  ARREST_TIME varchar(64),\n",
    "  ARREST_LOCATION VARCHAR(64),\n",
    "  INCIDENT_OFFENSE VARCHAR(64),\n",
    "  INCIDENT_LOCATION VARCHAR(64),\n",
    "  CHARGE VARCHAR(64),\n",
    "  CHARGE_DESC VARCHAR(64),\n",
    "  DISTRICT VARCHAR(64),\n",
    "  POST INTEGER,\n",
    "  NEIGHBORHOOD VARCHAR(64),\n",
    "  LOCATION_COORDINATES VARCHAR(64)\n",
    ")"
   ]
  },
  {
   "cell_type": "code",
   "execution_count": 7,
   "metadata": {
    "collapsed": false
   },
   "outputs": [
    {
     "name": "stdout",
     "output_type": "stream",
     "text": [
      "/home/jovyan/work\r\n"
     ]
    }
   ],
   "source": [
    "!pwd"
   ]
  },
  {
   "cell_type": "code",
   "execution_count": 8,
   "metadata": {
    "collapsed": false
   },
   "outputs": [
    {
     "name": "stdout",
     "output_type": "stream",
     "text": [
      "129025 rows affected.\n"
     ]
    },
    {
     "data": {
      "text/plain": [
       "[]"
      ]
     },
     "execution_count": 8,
     "metadata": {},
     "output_type": "execute_result"
    }
   ],
   "source": [
    "%%sql\n",
    "COPY bpd_arrests FROM '/home/jovyan/work/BPD_Arrests.csv'\n",
    "CSV\n",
    "HEADER\n",
    "QUOTE '\"'\n",
    "DELIMITER ',';"
   ]
  },
  {
   "cell_type": "code",
   "execution_count": 9,
   "metadata": {
    "collapsed": false
   },
   "outputs": [
    {
     "name": "stdout",
     "output_type": "stream",
     "text": [
      "1 rows affected.\n"
     ]
    },
    {
     "data": {
      "text/html": [
       "<table>\n",
       "    <tr>\n",
       "        <th>count</th>\n",
       "    </tr>\n",
       "    <tr>\n",
       "        <td>129025</td>\n",
       "    </tr>\n",
       "</table>"
      ],
      "text/plain": [
       "[(129025,)]"
      ]
     },
     "execution_count": 9,
     "metadata": {},
     "output_type": "execute_result"
    }
   ],
   "source": [
    "%%sql\n",
    "SELECT COUNT(*) FROM bpd_arrests;"
   ]
  },
  {
   "cell_type": "code",
   "execution_count": 15,
   "metadata": {
    "collapsed": false
   },
   "outputs": [
    {
     "name": "stdout",
     "output_type": "stream",
     "text": [
      "2 rows affected.\n"
     ]
    },
    {
     "data": {
      "text/html": [
       "<table>\n",
       "    <tr>\n",
       "        <th>sex</th>\n",
       "        <th>sex_count</th>\n",
       "    </tr>\n",
       "    <tr>\n",
       "        <td>F     </td>\n",
       "        <td>24547</td>\n",
       "    </tr>\n",
       "    <tr>\n",
       "        <td>M     </td>\n",
       "        <td>104478</td>\n",
       "    </tr>\n",
       "</table>"
      ],
      "text/plain": [
       "[('F     ', 24547), ('M     ', 104478)]"
      ]
     },
     "execution_count": 15,
     "metadata": {},
     "output_type": "execute_result"
    }
   ],
   "source": [
    "%%sql\n",
    "SELECT SEX, COUNT(*) AS SEX_COUNT\n",
    "FROM bpd_arrests\n",
    "GROUP BY SEX;"
   ]
  },
  {
   "cell_type": "code",
   "execution_count": 16,
   "metadata": {
    "collapsed": false
   },
   "outputs": [
    {
     "name": "stdout",
     "output_type": "stream",
     "text": [
      "10 rows affected.\n"
     ]
    },
    {
     "data": {
      "text/html": [
       "<table>\n",
       "    <tr>\n",
       "        <th>incident_offense</th>\n",
       "        <th>incident_offense_count</th>\n",
       "    </tr>\n",
       "    <tr>\n",
       "        <td>Unknown Offense</td>\n",
       "        <td>80719</td>\n",
       "    </tr>\n",
       "    <tr>\n",
       "        <td>87-Narcotics</td>\n",
       "        <td>12294</td>\n",
       "    </tr>\n",
       "    <tr>\n",
       "        <td>4E-Common Assault</td>\n",
       "        <td>6304</td>\n",
       "    </tr>\n",
       "    <tr>\n",
       "        <td>UNKNOWN OFFENSE</td>\n",
       "        <td>3209</td>\n",
       "    </tr>\n",
       "    <tr>\n",
       "        <td>87O-Narcotics (Outside)</td>\n",
       "        <td>2602</td>\n",
       "    </tr>\n",
       "    <tr>\n",
       "        <td>6C-Larceny- Shoplifting</td>\n",
       "        <td>2222</td>\n",
       "    </tr>\n",
       "    <tr>\n",
       "        <td>79-Other</td>\n",
       "        <td>1959</td>\n",
       "    </tr>\n",
       "    <tr>\n",
       "        <td>24-Towed Vehicle</td>\n",
       "        <td>1581</td>\n",
       "    </tr>\n",
       "    <tr>\n",
       "        <td>97-Search &amp; Seizure</td>\n",
       "        <td>1544</td>\n",
       "    </tr>\n",
       "    <tr>\n",
       "        <td>4C-Agg. Asslt.- Oth.</td>\n",
       "        <td>1466</td>\n",
       "    </tr>\n",
       "</table>"
      ],
      "text/plain": [
       "[('Unknown Offense', 80719),\n",
       " ('87-Narcotics', 12294),\n",
       " ('4E-Common Assault', 6304),\n",
       " ('UNKNOWN OFFENSE', 3209),\n",
       " ('87O-Narcotics (Outside)', 2602),\n",
       " ('6C-Larceny- Shoplifting', 2222),\n",
       " ('79-Other', 1959),\n",
       " ('24-Towed Vehicle', 1581),\n",
       " ('97-Search & Seizure', 1544),\n",
       " ('4C-Agg. Asslt.- Oth.', 1466)]"
      ]
     },
     "execution_count": 16,
     "metadata": {},
     "output_type": "execute_result"
    }
   ],
   "source": [
    "%%sql\n",
    "SELECT INCIDENT_OFFENSE, COUNT(*) AS INCIDENT_OFFENSE_COUNT\n",
    "FROM bpd_arrests\n",
    "GROUP BY INCIDENT_OFFENSE\n",
    "ORDER BY INCIDENT_OFFENSE_COUNT DESC\n",
    "LIMIT 10;"
   ]
  },
  {
   "cell_type": "code",
   "execution_count": 17,
   "metadata": {
    "collapsed": false
   },
   "outputs": [
    {
     "name": "stdout",
     "output_type": "stream",
     "text": [
      "16 rows affected.\n"
     ]
    },
    {
     "data": {
      "text/html": [
       "<table>\n",
       "    <tr>\n",
       "        <th>arrest_location</th>\n",
       "        <th>count</th>\n",
       "    </tr>\n",
       "    <tr>\n",
       "        <td>100 N HIGHLAND AVE</td>\n",
       "        <td>23</td>\n",
       "    </tr>\n",
       "    <tr>\n",
       "        <td>100 S HIGHLAND AVE</td>\n",
       "        <td>18</td>\n",
       "    </tr>\n",
       "    <tr>\n",
       "        <td>100 S HIGHLAND ST</td>\n",
       "        <td>2</td>\n",
       "    </tr>\n",
       "    <tr>\n",
       "        <td>1400 S HIGHLAND AVE</td>\n",
       "        <td>2</td>\n",
       "    </tr>\n",
       "    <tr>\n",
       "        <td>200 N HIGHLAND AVE</td>\n",
       "        <td>50</td>\n",
       "    </tr>\n",
       "    <tr>\n",
       "        <td>200 S HIGHLAND AVE</td>\n",
       "        <td>5</td>\n",
       "    </tr>\n",
       "    <tr>\n",
       "        <td>300 N HIGHLAND AVE</td>\n",
       "        <td>1</td>\n",
       "    </tr>\n",
       "    <tr>\n",
       "        <td>300 S HIGHLAND AVE</td>\n",
       "        <td>2</td>\n",
       "    </tr>\n",
       "    <tr>\n",
       "        <td>400 N HIGHLAND AVE</td>\n",
       "        <td>25</td>\n",
       "    </tr>\n",
       "    <tr>\n",
       "        <td>400 S HIGHLAND AVE</td>\n",
       "        <td>4</td>\n",
       "    </tr>\n",
       "    <tr>\n",
       "        <td>500 N HIGHLAND AVE</td>\n",
       "        <td>9</td>\n",
       "    </tr>\n",
       "    <tr>\n",
       "        <td>500 S HIGHLAND AVE</td>\n",
       "        <td>3</td>\n",
       "    </tr>\n",
       "    <tr>\n",
       "        <td>600 N HIGHLAND AVE</td>\n",
       "        <td>12</td>\n",
       "    </tr>\n",
       "    <tr>\n",
       "        <td>800 S HIGHLAND AVE</td>\n",
       "        <td>1</td>\n",
       "    </tr>\n",
       "    <tr>\n",
       "        <td>UNIT N HIGHLAND AVE</td>\n",
       "        <td>40</td>\n",
       "    </tr>\n",
       "    <tr>\n",
       "        <td>UNIT S HIGHLAND AVE</td>\n",
       "        <td>55</td>\n",
       "    </tr>\n",
       "</table>"
      ],
      "text/plain": [
       "[('100 N HIGHLAND AVE', 23),\n",
       " ('100 S HIGHLAND AVE', 18),\n",
       " ('100 S HIGHLAND ST', 2),\n",
       " ('1400 S HIGHLAND AVE', 2),\n",
       " ('200 N HIGHLAND AVE', 50),\n",
       " ('200 S HIGHLAND AVE', 5),\n",
       " ('300 N HIGHLAND AVE', 1),\n",
       " ('300 S HIGHLAND AVE', 2),\n",
       " ('400 N HIGHLAND AVE', 25),\n",
       " ('400 S HIGHLAND AVE', 4),\n",
       " ('500 N HIGHLAND AVE', 9),\n",
       " ('500 S HIGHLAND AVE', 3),\n",
       " ('600 N HIGHLAND AVE', 12),\n",
       " ('800 S HIGHLAND AVE', 1),\n",
       " ('UNIT N HIGHLAND AVE', 40),\n",
       " ('UNIT S HIGHLAND AVE', 55)]"
      ]
     },
     "execution_count": 17,
     "metadata": {},
     "output_type": "execute_result"
    }
   ],
   "source": [
    "%%sql\n",
    "SELECT ARREST_LOCATION, COUNT(*)\n",
    "FROM bpd_arrests\n",
    "WHERE ARREST_LOCATION LIKE '%HIGHLAND%'\n",
    "GROUP BY ARREST_LOCATION\n",
    "ORDER BY ARREST_LOCATION;"
   ]
  },
  {
   "cell_type": "markdown",
   "metadata": {},
   "source": [
    "## Problem 3 - define a star schema, and load your data into it (30 points)\n",
    "\n",
    "Define a star schema consisting of at least one fact table and at least two dimensions.  Transform your source data into the new fact table and dimensions.  Discuss your key modeling decisions.\n",
    "\n",
    "Document your star schema with a diagram.  There several tools available for this, such as Google Docs and Microsoft Visio."
   ]
  },
  {
   "cell_type": "markdown",
   "metadata": {},
   "source": [
    "### Our Approach to Problem 3:\n",
    "\n",
    "We first finished making our copy of the bpd_arrests table and continued to use that version throughout the rest of the assignment.  We then went through the process of updating missing and null values for the variables with which we identified these issues.\n",
    "\n",
    "Next, we created three dimension tables (person, time, location), each with a primary key that would eventually be used to link the dimension table to the fact table.  In addition to the primary key, the dimension tables also contained the variables associated with the particular dimension.  In some circumstances, it would have been great to create a more granular grain, but for this assignment it was stated that we could keep the variables relatively high level.\n",
    "\n",
    "After we created the dimension tables, we created the fact table (arrests_facts).  The only fact in this table is \"arrest\"; the other variables are the keys that match to the various dimension tables.  We also made statements declaring that the \"key\" variables were the foreign keys used to link to the dimension tables.\n",
    "\n",
    "Lastly, we filled in the dimension table with an insert statement and declared how the fact and dimension tables were linked together with the copy_bpd_arrests table.  We then wrote a simple query to verify that the arrests_facts table populated correctly."
   ]
  },
  {
   "cell_type": "code",
   "execution_count": 10,
   "metadata": {
    "collapsed": false
   },
   "outputs": [
    {
     "name": "stdout",
     "output_type": "stream",
     "text": [
      "129025 rows affected.\n"
     ]
    },
    {
     "data": {
      "text/plain": [
       "[]"
      ]
     },
     "execution_count": 10,
     "metadata": {},
     "output_type": "execute_result"
    }
   ],
   "source": [
    "%%sql\n",
    "SELECT *\n",
    "INTO copy_bpd_arrests \n",
    "FROM bpd_arrests;"
   ]
  },
  {
   "cell_type": "code",
   "execution_count": 11,
   "metadata": {
    "collapsed": false
   },
   "outputs": [
    {
     "name": "stdout",
     "output_type": "stream",
     "text": [
      "6926 rows affected.\n"
     ]
    },
    {
     "data": {
      "text/plain": [
       "[]"
      ]
     },
     "execution_count": 11,
     "metadata": {},
     "output_type": "execute_result"
    }
   ],
   "source": [
    "%%sql\n",
    "UPDATE copy_bpd_arrests\n",
    "SET ARREST = 1\n",
    "WHERE ARREST IS NULL;"
   ]
  },
  {
   "cell_type": "code",
   "execution_count": 12,
   "metadata": {
    "collapsed": false
   },
   "outputs": [
    {
     "name": "stdout",
     "output_type": "stream",
     "text": [
      "28 rows affected.\n"
     ]
    },
    {
     "data": {
      "text/plain": [
       "[]"
      ]
     },
     "execution_count": 12,
     "metadata": {},
     "output_type": "execute_result"
    }
   ],
   "source": [
    "%%sql\n",
    "UPDATE copy_bpd_arrests\n",
    "SET AGE = 1\n",
    "WHERE AGE IS NULL;"
   ]
  },
  {
   "cell_type": "code",
   "execution_count": 13,
   "metadata": {
    "collapsed": false
   },
   "outputs": [
    {
     "name": "stdout",
     "output_type": "stream",
     "text": [
      "28 rows affected.\n"
     ]
    },
    {
     "data": {
      "text/plain": [
       "[]"
      ]
     },
     "execution_count": 13,
     "metadata": {},
     "output_type": "execute_result"
    }
   ],
   "source": [
    "%%sql\n",
    "UPDATE copy_bpd_arrests\n",
    "SET AGE = 1\n",
    "WHERE AGE = 0;"
   ]
  },
  {
   "cell_type": "code",
   "execution_count": 14,
   "metadata": {
    "collapsed": false
   },
   "outputs": [
    {
     "name": "stdout",
     "output_type": "stream",
     "text": [
      "51324 rows affected.\n"
     ]
    },
    {
     "data": {
      "text/plain": [
       "[]"
      ]
     },
     "execution_count": 14,
     "metadata": {},
     "output_type": "execute_result"
    }
   ],
   "source": [
    "%%sql\n",
    "UPDATE copy_bpd_arrests\n",
    "SET ARREST_LOCATION = 'NOT_REPORTED'\n",
    "WHERE ARREST_LOCATION IS NULL;"
   ]
  },
  {
   "cell_type": "code",
   "execution_count": 15,
   "metadata": {
    "collapsed": false
   },
   "outputs": [
    {
     "name": "stdout",
     "output_type": "stream",
     "text": [
      "52934 rows affected.\n"
     ]
    },
    {
     "data": {
      "text/plain": [
       "[]"
      ]
     },
     "execution_count": 15,
     "metadata": {},
     "output_type": "execute_result"
    }
   ],
   "source": [
    "%%sql\n",
    "UPDATE copy_bpd_arrests\n",
    "SET INCIDENT_LOCATION = 'NOT_REPORTED'\n",
    "WHERE INCIDENT_LOCATION IS NULL;"
   ]
  },
  {
   "cell_type": "code",
   "execution_count": 16,
   "metadata": {
    "collapsed": false
   },
   "outputs": [
    {
     "name": "stdout",
     "output_type": "stream",
     "text": [
      "Done.\n",
      "Done.\n"
     ]
    },
    {
     "data": {
      "text/plain": [
       "[]"
      ]
     },
     "execution_count": 16,
     "metadata": {},
     "output_type": "execute_result"
    }
   ],
   "source": [
    "%%sql\n",
    "DROP TABLE IF EXISTS person_dimension;\n",
    "CREATE TABLE person_dimension(\n",
    "  person_key SERIAL PRIMARY KEY,\n",
    "  AGE INTEGER,\n",
    "  SEX CHAR(6),\n",
    "  RACE VARCHAR(64)\n",
    ")"
   ]
  },
  {
   "cell_type": "code",
   "execution_count": 17,
   "metadata": {
    "collapsed": false
   },
   "outputs": [
    {
     "name": "stdout",
     "output_type": "stream",
     "text": [
      "499 rows affected.\n"
     ]
    },
    {
     "data": {
      "text/plain": [
       "[]"
      ]
     },
     "execution_count": 17,
     "metadata": {},
     "output_type": "execute_result"
    }
   ],
   "source": [
    "%%sql\n",
    "INSERT INTO person_dimension (AGE, SEX, RACE)\n",
    "SELECT DISTINCT AGE, SEX, RACE \n",
    "FROM copy_bpd_arrests;"
   ]
  },
  {
   "cell_type": "code",
   "execution_count": 18,
   "metadata": {
    "collapsed": false
   },
   "outputs": [
    {
     "name": "stdout",
     "output_type": "stream",
     "text": [
      "Done.\n",
      "Done.\n"
     ]
    },
    {
     "data": {
      "text/plain": [
       "[]"
      ]
     },
     "execution_count": 18,
     "metadata": {},
     "output_type": "execute_result"
    }
   ],
   "source": [
    "%%sql\n",
    "DROP TABLE IF EXISTS time_dimension;\n",
    "CREATE TABLE time_dimension(\n",
    "  time_key SERIAL PRIMARY KEY,\n",
    "  ARREST_DATE TIMESTAMP, \n",
    "  ARREST_TIME varchar(64)\n",
    ")"
   ]
  },
  {
   "cell_type": "code",
   "execution_count": 19,
   "metadata": {
    "collapsed": false
   },
   "outputs": [
    {
     "name": "stdout",
     "output_type": "stream",
     "text": [
      "89774 rows affected.\n"
     ]
    },
    {
     "data": {
      "text/plain": [
       "[]"
      ]
     },
     "execution_count": 19,
     "metadata": {},
     "output_type": "execute_result"
    }
   ],
   "source": [
    "%%sql\n",
    "INSERT INTO time_dimension (ARREST_DATE, ARREST_TIME)\n",
    "SELECT DISTINCT ARREST_DATE, ARREST_TIME \n",
    "FROM copy_bpd_arrests;"
   ]
  },
  {
   "cell_type": "code",
   "execution_count": 20,
   "metadata": {
    "collapsed": false
   },
   "outputs": [
    {
     "name": "stdout",
     "output_type": "stream",
     "text": [
      "Done.\n",
      "Done.\n"
     ]
    },
    {
     "data": {
      "text/plain": [
       "[]"
      ]
     },
     "execution_count": 20,
     "metadata": {},
     "output_type": "execute_result"
    }
   ],
   "source": [
    "%%sql\n",
    "DROP TABLE IF EXISTS location_dimension;\n",
    "CREATE TABLE location_dimension(\n",
    "  location_key SERIAL PRIMARY KEY,\n",
    "  ARREST_LOCATION VARCHAR(64),\n",
    "  INCIDENT_LOCATION VARCHAR(64)\n",
    ")"
   ]
  },
  {
   "cell_type": "code",
   "execution_count": 21,
   "metadata": {
    "collapsed": false
   },
   "outputs": [
    {
     "name": "stdout",
     "output_type": "stream",
     "text": [
      "32283 rows affected.\n"
     ]
    },
    {
     "data": {
      "text/plain": [
       "[]"
      ]
     },
     "execution_count": 21,
     "metadata": {},
     "output_type": "execute_result"
    }
   ],
   "source": [
    "%%sql\n",
    "INSERT INTO location_dimension (ARREST_LOCATION, INCIDENT_LOCATION)\n",
    "SELECT DISTINCT ARREST_LOCATION, INCIDENT_LOCATION \n",
    "FROM copy_bpd_arrests;\n",
    "   "
   ]
  },
  {
   "cell_type": "code",
   "execution_count": 22,
   "metadata": {
    "collapsed": false
   },
   "outputs": [
    {
     "name": "stdout",
     "output_type": "stream",
     "text": [
      "Done.\n",
      "Done.\n"
     ]
    },
    {
     "data": {
      "text/plain": [
       "[]"
      ]
     },
     "execution_count": 22,
     "metadata": {},
     "output_type": "execute_result"
    }
   ],
   "source": [
    "%%sql\n",
    "DROP TABLE IF EXISTS arrests_facts;\n",
    "CREATE TABLE arrests_facts(\n",
    "  ARREST INTEGER,\n",
    "  person_key INTEGER,\n",
    "  time_key INTEGER,\n",
    "  location_key INTEGER,\n",
    "  FOREIGN KEY(person_key) REFERENCES person_dimension(person_key),\n",
    "  FOREIGN KEY(time_key) REFERENCES time_dimension(time_key),\n",
    "  FOREIGN KEY(location_key) REFERENCES location_dimension(location_key)\n",
    ")"
   ]
  },
  {
   "cell_type": "markdown",
   "metadata": {},
   "source": [
    "#### Please note that following query may take a few minutes to execute"
   ]
  },
  {
   "cell_type": "code",
   "execution_count": null,
   "metadata": {
    "collapsed": false
   },
   "outputs": [],
   "source": [
    "%%sql\n",
    "INSERT INTO arrests_facts (arrest, person_key, time_key, location_key)\n",
    "SELECT arrests.arrest, person.person_key, time.time_key, location.location_key\n",
    "FROM copy_bpd_arrests AS arrests, \n",
    "person_dimension AS person,\n",
    "time_dimension AS time,\n",
    "location_dimension AS location\n",
    "WHERE person.age = arrests.age\n",
    "  AND person.sex = arrests.sex\n",
    "  AND person.race = arrests.race\n",
    "  AND time.arrest_date = arrests.arrest_date\n",
    "  AND time.arrest_time = arrests.arrest_time\n",
    "  AND location.arrest_location = arrests.arrest_location\n",
    "  AND location.incident_location = arrests.incident_location;"
   ]
  },
  {
   "cell_type": "code",
   "execution_count": 32,
   "metadata": {
    "collapsed": false
   },
   "outputs": [
    {
     "name": "stdout",
     "output_type": "stream",
     "text": [
      "10 rows affected.\n"
     ]
    },
    {
     "data": {
      "text/html": [
       "<table>\n",
       "    <tr>\n",
       "        <th>arrest</th>\n",
       "        <th>person_key</th>\n",
       "        <th>time_key</th>\n",
       "        <th>location_key</th>\n",
       "    </tr>\n",
       "    <tr>\n",
       "        <td>16088671</td>\n",
       "        <td>416</td>\n",
       "        <td>2</td>\n",
       "        <td>12883</td>\n",
       "    </tr>\n",
       "    <tr>\n",
       "        <td>16088676</td>\n",
       "        <td>416</td>\n",
       "        <td>2</td>\n",
       "        <td>12883</td>\n",
       "    </tr>\n",
       "    <tr>\n",
       "        <td>16088669</td>\n",
       "        <td>416</td>\n",
       "        <td>2</td>\n",
       "        <td>12883</td>\n",
       "    </tr>\n",
       "    <tr>\n",
       "        <td>16145813</td>\n",
       "        <td>163</td>\n",
       "        <td>5</td>\n",
       "        <td>5776</td>\n",
       "    </tr>\n",
       "    <tr>\n",
       "        <td>13683490</td>\n",
       "        <td>42</td>\n",
       "        <td>9</td>\n",
       "        <td>9639</td>\n",
       "    </tr>\n",
       "    <tr>\n",
       "        <td>15006676</td>\n",
       "        <td>368</td>\n",
       "        <td>14</td>\n",
       "        <td>12883</td>\n",
       "    </tr>\n",
       "    <tr>\n",
       "        <td>15006674</td>\n",
       "        <td>99</td>\n",
       "        <td>14</td>\n",
       "        <td>12883</td>\n",
       "    </tr>\n",
       "    <tr>\n",
       "        <td>15121032</td>\n",
       "        <td>92</td>\n",
       "        <td>16</td>\n",
       "        <td>12883</td>\n",
       "    </tr>\n",
       "    <tr>\n",
       "        <td>15038023</td>\n",
       "        <td>101</td>\n",
       "        <td>17</td>\n",
       "        <td>16984</td>\n",
       "    </tr>\n",
       "    <tr>\n",
       "        <td>15038017</td>\n",
       "        <td>9</td>\n",
       "        <td>17</td>\n",
       "        <td>16984</td>\n",
       "    </tr>\n",
       "</table>"
      ],
      "text/plain": [
       "[(16088671, 416, 2, 12883),\n",
       " (16088676, 416, 2, 12883),\n",
       " (16088669, 416, 2, 12883),\n",
       " (16145813, 163, 5, 5776),\n",
       " (13683490, 42, 9, 9639),\n",
       " (15006676, 368, 14, 12883),\n",
       " (15006674, 99, 14, 12883),\n",
       " (15121032, 92, 16, 12883),\n",
       " (15038023, 101, 17, 16984),\n",
       " (15038017, 9, 17, 16984)]"
      ]
     },
     "execution_count": 32,
     "metadata": {},
     "output_type": "execute_result"
    }
   ],
   "source": [
    "%%sql\n",
    "SELECT * FROM arrests_facts\n",
    "LIMIT 10;"
   ]
  },
  {
   "cell_type": "markdown",
   "metadata": {},
   "source": [
    "## Problem 4 - explore your data in its new schema (30 points)\n",
    "\n",
    "Strictly using the dimensional model tables you defined and populated for Problem 3, explore your data in its new form.  Use any of the query strategies we've seen in class, including transformations, aggregates, subqueries, rollups, and, of course, joins.  Add plots to highlight particular themes that stand out.  Describe your thinking and observations along the way."
   ]
  },
  {
   "cell_type": "markdown",
   "metadata": {},
   "source": [
    "#### How many men and how many women have been arrest according to this data set?\n",
    "\n",
    "We used this question to compare our results from a previous query to verify that everything in our dimension tables and fact table is joined correctly.  The results match!"
   ]
  },
  {
   "cell_type": "code",
   "execution_count": 40,
   "metadata": {
    "collapsed": false
   },
   "outputs": [
    {
     "name": "stdout",
     "output_type": "stream",
     "text": [
      "2 rows affected.\n"
     ]
    },
    {
     "data": {
      "text/html": [
       "<table>\n",
       "    <tr>\n",
       "        <th>sex</th>\n",
       "        <th>count</th>\n",
       "    </tr>\n",
       "    <tr>\n",
       "        <td>M     </td>\n",
       "        <td>104478</td>\n",
       "    </tr>\n",
       "    <tr>\n",
       "        <td>F     </td>\n",
       "        <td>24547</td>\n",
       "    </tr>\n",
       "</table>"
      ],
      "text/plain": [
       "[('M     ', 104478), ('F     ', 24547)]"
      ]
     },
     "execution_count": 40,
     "metadata": {},
     "output_type": "execute_result"
    }
   ],
   "source": [
    "%%sql\n",
    "\n",
    "SELECT \n",
    "    P.sex,\n",
    "    COUNT(*)\n",
    "\n",
    "FROM arrests_facts A\n",
    "INNER JOIN person_dimension P ON (A.person_key = P.person_key)\n",
    "\n",
    "GROUP BY\n",
    "    P.sex"
   ]
  },
  {
   "cell_type": "markdown",
   "metadata": {},
   "source": [
    "#### Does the volume of men and women arrests seem to vary by race?\n",
    "\n",
    "It seems that the races U and I have a higher proportion of male arrests in comparison to the other races."
   ]
  },
  {
   "cell_type": "code",
   "execution_count": 44,
   "metadata": {
    "collapsed": false
   },
   "outputs": [
    {
     "name": "stdout",
     "output_type": "stream",
     "text": [
      "10 rows affected.\n"
     ]
    },
    {
     "data": {
      "text/html": [
       "<table>\n",
       "    <tr>\n",
       "        <th>race</th>\n",
       "        <th>sex</th>\n",
       "        <th>count</th>\n",
       "    </tr>\n",
       "    <tr>\n",
       "        <td>W</td>\n",
       "        <td>F     </td>\n",
       "        <td>6634</td>\n",
       "    </tr>\n",
       "    <tr>\n",
       "        <td>W</td>\n",
       "        <td>M     </td>\n",
       "        <td>13824</td>\n",
       "    </tr>\n",
       "    <tr>\n",
       "        <td>A</td>\n",
       "        <td>M     </td>\n",
       "        <td>259</td>\n",
       "    </tr>\n",
       "    <tr>\n",
       "        <td>A</td>\n",
       "        <td>F     </td>\n",
       "        <td>81</td>\n",
       "    </tr>\n",
       "    <tr>\n",
       "        <td>I</td>\n",
       "        <td>F     </td>\n",
       "        <td>38</td>\n",
       "    </tr>\n",
       "    <tr>\n",
       "        <td>I</td>\n",
       "        <td>M     </td>\n",
       "        <td>334</td>\n",
       "    </tr>\n",
       "    <tr>\n",
       "        <td>B</td>\n",
       "        <td>M     </td>\n",
       "        <td>87767</td>\n",
       "    </tr>\n",
       "    <tr>\n",
       "        <td>B</td>\n",
       "        <td>F     </td>\n",
       "        <td>17465</td>\n",
       "    </tr>\n",
       "    <tr>\n",
       "        <td>U</td>\n",
       "        <td>M     </td>\n",
       "        <td>2294</td>\n",
       "    </tr>\n",
       "    <tr>\n",
       "        <td>U</td>\n",
       "        <td>F     </td>\n",
       "        <td>329</td>\n",
       "    </tr>\n",
       "</table>"
      ],
      "text/plain": [
       "[('W', 'F     ', 6634),\n",
       " ('W', 'M     ', 13824),\n",
       " ('A', 'M     ', 259),\n",
       " ('A', 'F     ', 81),\n",
       " ('I', 'F     ', 38),\n",
       " ('I', 'M     ', 334),\n",
       " ('B', 'M     ', 87767),\n",
       " ('B', 'F     ', 17465),\n",
       " ('U', 'M     ', 2294),\n",
       " ('U', 'F     ', 329)]"
      ]
     },
     "execution_count": 44,
     "metadata": {},
     "output_type": "execute_result"
    }
   ],
   "source": [
    "%%sql\n",
    "\n",
    "SELECT \n",
    "    P.race,\n",
    "    P.sex,\n",
    "    COUNT(*)\n",
    "\n",
    "FROM arrests_facts A\n",
    "INNER JOIN person_dimension P ON (A.person_key = P.person_key)\n",
    "\n",
    "GROUP BY\n",
    "    P.race, P.sex"
   ]
  },
  {
   "cell_type": "markdown",
   "metadata": {},
   "source": [
    "#### Which locations have the most arrests?\n",
    "\n",
    "Interestingly, the highest count is for not reported.  Which brings up the question of how accurate those neighborhood crime maps are!"
   ]
  },
  {
   "cell_type": "code",
   "execution_count": 32,
   "metadata": {
    "collapsed": false
   },
   "outputs": [
    {
     "name": "stdout",
     "output_type": "stream",
     "text": [
      "10 rows affected.\n"
     ]
    },
    {
     "data": {
      "text/html": [
       "<table>\n",
       "    <tr>\n",
       "        <th>arrest_location</th>\n",
       "        <th>count</th>\n",
       "    </tr>\n",
       "    <tr>\n",
       "        <td>NOT_REPORTED</td>\n",
       "        <td>51324</td>\n",
       "    </tr>\n",
       "    <tr>\n",
       "        <td>200 N EUTAW ST</td>\n",
       "        <td>447</td>\n",
       "    </tr>\n",
       "    <tr>\n",
       "        <td>1600 W NORTH AVE</td>\n",
       "        <td>343</td>\n",
       "    </tr>\n",
       "    <tr>\n",
       "        <td>400 E LEXINGTON ST</td>\n",
       "        <td>297</td>\n",
       "    </tr>\n",
       "    <tr>\n",
       "        <td>1500 RUSSELL ST</td>\n",
       "        <td>289</td>\n",
       "    </tr>\n",
       "    <tr>\n",
       "        <td>300 N EUTAW ST</td>\n",
       "        <td>235</td>\n",
       "    </tr>\n",
       "    <tr>\n",
       "        <td>400 E BALTIMORE ST</td>\n",
       "        <td>226</td>\n",
       "    </tr>\n",
       "    <tr>\n",
       "        <td>400 W SARATOGA ST</td>\n",
       "        <td>218</td>\n",
       "    </tr>\n",
       "    <tr>\n",
       "        <td>5100 REISTERSTOWN RD</td>\n",
       "        <td>207</td>\n",
       "    </tr>\n",
       "    <tr>\n",
       "        <td>1500 W NORTH AVE</td>\n",
       "        <td>197</td>\n",
       "    </tr>\n",
       "</table>"
      ],
      "text/plain": [
       "[('NOT_REPORTED', 51324),\n",
       " ('200 N EUTAW ST', 447),\n",
       " ('1600 W NORTH AVE', 343),\n",
       " ('400 E LEXINGTON ST', 297),\n",
       " ('1500 RUSSELL ST', 289),\n",
       " ('300 N EUTAW ST', 235),\n",
       " ('400 E BALTIMORE ST', 226),\n",
       " ('400 W SARATOGA ST', 218),\n",
       " ('5100 REISTERSTOWN RD', 207),\n",
       " ('1500 W NORTH AVE', 197)]"
      ]
     },
     "execution_count": 32,
     "metadata": {},
     "output_type": "execute_result"
    }
   ],
   "source": [
    "%%sql\n",
    "SELECT \n",
    "    L.ARREST_LOCATION,\n",
    "    COUNT(*) AS count\n",
    "\n",
    "FROM arrests_facts A\n",
    "INNER JOIN location_dimension L ON (A.location_key = L.location_key)\n",
    "\n",
    "GROUP BY\n",
    "    L.ARREST_LOCATION\n",
    "    \n",
    "ORDER BY count DESC\n",
    "LIMIT 10;"
   ]
  },
  {
   "cell_type": "markdown",
   "metadata": {},
   "source": [
    "#### Do certain dates seem to have higher crime than others?\n",
    "\n",
    "From this data, it is hard to tell if there is a pattern.  A more granular level of grain would likely provide a more specific answer to this question."
   ]
  },
  {
   "cell_type": "code",
   "execution_count": 48,
   "metadata": {
    "collapsed": false
   },
   "outputs": [
    {
     "name": "stdout",
     "output_type": "stream",
     "text": [
      "25 rows affected.\n"
     ]
    },
    {
     "data": {
      "text/html": [
       "<table>\n",
       "    <tr>\n",
       "        <th>arrest_date</th>\n",
       "        <th>count</th>\n",
       "    </tr>\n",
       "    <tr>\n",
       "        <td>2013-08-15 00:00:00</td>\n",
       "        <td>186</td>\n",
       "    </tr>\n",
       "    <tr>\n",
       "        <td>2014-01-09 00:00:00</td>\n",
       "        <td>182</td>\n",
       "    </tr>\n",
       "    <tr>\n",
       "        <td>2013-05-29 00:00:00</td>\n",
       "        <td>178</td>\n",
       "    </tr>\n",
       "    <tr>\n",
       "        <td>2014-04-23 00:00:00</td>\n",
       "        <td>175</td>\n",
       "    </tr>\n",
       "    <tr>\n",
       "        <td>2014-03-06 00:00:00</td>\n",
       "        <td>172</td>\n",
       "    </tr>\n",
       "    <tr>\n",
       "        <td>2013-10-01 00:00:00</td>\n",
       "        <td>171</td>\n",
       "    </tr>\n",
       "    <tr>\n",
       "        <td>2015-04-27 00:00:00</td>\n",
       "        <td>171</td>\n",
       "    </tr>\n",
       "    <tr>\n",
       "        <td>2014-06-05 00:00:00</td>\n",
       "        <td>171</td>\n",
       "    </tr>\n",
       "    <tr>\n",
       "        <td>2013-03-13 00:00:00</td>\n",
       "        <td>171</td>\n",
       "    </tr>\n",
       "    <tr>\n",
       "        <td>2014-06-11 00:00:00</td>\n",
       "        <td>169</td>\n",
       "    </tr>\n",
       "    <tr>\n",
       "        <td>2013-01-17 00:00:00</td>\n",
       "        <td>169</td>\n",
       "    </tr>\n",
       "    <tr>\n",
       "        <td>2014-06-18 00:00:00</td>\n",
       "        <td>168</td>\n",
       "    </tr>\n",
       "    <tr>\n",
       "        <td>2013-04-24 00:00:00</td>\n",
       "        <td>168</td>\n",
       "    </tr>\n",
       "    <tr>\n",
       "        <td>2014-07-17 00:00:00</td>\n",
       "        <td>168</td>\n",
       "    </tr>\n",
       "    <tr>\n",
       "        <td>2013-02-07 00:00:00</td>\n",
       "        <td>168</td>\n",
       "    </tr>\n",
       "    <tr>\n",
       "        <td>2013-02-26 00:00:00</td>\n",
       "        <td>168</td>\n",
       "    </tr>\n",
       "    <tr>\n",
       "        <td>2013-03-05 00:00:00</td>\n",
       "        <td>167</td>\n",
       "    </tr>\n",
       "    <tr>\n",
       "        <td>2013-02-20 00:00:00</td>\n",
       "        <td>166</td>\n",
       "    </tr>\n",
       "    <tr>\n",
       "        <td>2013-02-06 00:00:00</td>\n",
       "        <td>166</td>\n",
       "    </tr>\n",
       "    <tr>\n",
       "        <td>2014-02-20 00:00:00</td>\n",
       "        <td>165</td>\n",
       "    </tr>\n",
       "    <tr>\n",
       "        <td>2013-03-19 00:00:00</td>\n",
       "        <td>165</td>\n",
       "    </tr>\n",
       "    <tr>\n",
       "        <td>2013-01-16 00:00:00</td>\n",
       "        <td>164</td>\n",
       "    </tr>\n",
       "    <tr>\n",
       "        <td>2014-04-10 00:00:00</td>\n",
       "        <td>163</td>\n",
       "    </tr>\n",
       "    <tr>\n",
       "        <td>2014-08-06 00:00:00</td>\n",
       "        <td>163</td>\n",
       "    </tr>\n",
       "    <tr>\n",
       "        <td>2013-09-20 00:00:00</td>\n",
       "        <td>163</td>\n",
       "    </tr>\n",
       "</table>"
      ],
      "text/plain": [
       "[(datetime.datetime(2013, 8, 15, 0, 0), 186),\n",
       " (datetime.datetime(2014, 1, 9, 0, 0), 182),\n",
       " (datetime.datetime(2013, 5, 29, 0, 0), 178),\n",
       " (datetime.datetime(2014, 4, 23, 0, 0), 175),\n",
       " (datetime.datetime(2014, 3, 6, 0, 0), 172),\n",
       " (datetime.datetime(2013, 10, 1, 0, 0), 171),\n",
       " (datetime.datetime(2015, 4, 27, 0, 0), 171),\n",
       " (datetime.datetime(2014, 6, 5, 0, 0), 171),\n",
       " (datetime.datetime(2013, 3, 13, 0, 0), 171),\n",
       " (datetime.datetime(2014, 6, 11, 0, 0), 169),\n",
       " (datetime.datetime(2013, 1, 17, 0, 0), 169),\n",
       " (datetime.datetime(2014, 6, 18, 0, 0), 168),\n",
       " (datetime.datetime(2013, 4, 24, 0, 0), 168),\n",
       " (datetime.datetime(2014, 7, 17, 0, 0), 168),\n",
       " (datetime.datetime(2013, 2, 7, 0, 0), 168),\n",
       " (datetime.datetime(2013, 2, 26, 0, 0), 168),\n",
       " (datetime.datetime(2013, 3, 5, 0, 0), 167),\n",
       " (datetime.datetime(2013, 2, 20, 0, 0), 166),\n",
       " (datetime.datetime(2013, 2, 6, 0, 0), 166),\n",
       " (datetime.datetime(2014, 2, 20, 0, 0), 165),\n",
       " (datetime.datetime(2013, 3, 19, 0, 0), 165),\n",
       " (datetime.datetime(2013, 1, 16, 0, 0), 164),\n",
       " (datetime.datetime(2014, 4, 10, 0, 0), 163),\n",
       " (datetime.datetime(2014, 8, 6, 0, 0), 163),\n",
       " (datetime.datetime(2013, 9, 20, 0, 0), 163)]"
      ]
     },
     "execution_count": 48,
     "metadata": {},
     "output_type": "execute_result"
    }
   ],
   "source": [
    "%%sql\n",
    "SELECT \n",
    "    T.ARREST_DATE,\n",
    "    COUNT(*) AS count\n",
    "\n",
    "FROM arrests_facts A\n",
    "INNER JOIN time_dimension T ON (A.time_key = T.time_key)\n",
    "\n",
    "GROUP BY\n",
    "    T.ARREST_DATE\n",
    "    \n",
    "ORDER BY count DESC\n",
    "LIMIT 25;"
   ]
  },
  {
   "cell_type": "markdown",
   "metadata": {},
   "source": [
    "## Bonus (10 points for one of A or B)\n",
    "\n",
    "\n",
    "### Option A - Automating ETL\n",
    "\n",
    "Consider the work you did to load your original raw dataset and then transform it into a dimensional model for analysis.  What would it take to automate this process?  How often would you need to update the data?  Could you easily automate any data cleaning steps?  What checks would you need to put in place to ensure quality?  Would humans need to be involved, or could you automate it all?\n",
    "\n",
    "Discuss.\n",
    "\n",
    "Consider the work you did to load your original raw dataset and then transform it into a dimensional model for analysis.  \n",
    "\n",
    "#### What would it take to automate this process?  \n",
    "We would be curious to know if it is possible to create various types of IDs/keys in the master data table in order to avoid the manual process of linking dimension tables and facts together.  Not sure if that is possible, but that form of autmation would likely have tremendous benefit.\n",
    "\n",
    "Additionally, removing of missing / null values seems like something that could be relatively easy to automate.  For example, someone could write a set of rules for how to deal with various types of values as they come in, so that values such as null would not be present in the database.\n",
    "\n",
    "Lastly, it seems very possible that something such as parsing date and time into individual variables for day, month, year, hour, and minute would be something that could be automated.  In order to do this, it seems that either:  1)  that data could be collected at a more granular format, or 2)someone could write a function that would take a data frame as a parameter, parse the dates into individual variables, return an updated data frame with the denormalized variables.\n",
    "\n",
    "\n",
    "#### How often would you need to update the data?  \n",
    "It seems like this topic could be debated from a number of viewpoints and likely depends on the nature of the business and how often they are pulling analytical reports.  For example, if a business is typically only reviewing sales on a daily basis, it seems reasonable that the data could be collected throughout the day then put through the ETL process at night.\n",
    "\n",
    "\n",
    "#### Could you easily automate any data cleaning steps?  \n",
    "As mentioned above, dealing with missing / null values and cleaning up a variable such as date would be quite helpful.\n",
    "\n",
    "\n",
    "#### What checks would you need to put in place to ensure quality?  \n",
    "For the missing / null example, I believe the team that is working on the automation would need to consider the breadth of values that are currently being recorded.  They would need to ensure that there are clear approaches for dealing with all of them.  The team would also likely need to try to plan for the unexpected by trying to identify the types of values that have not been encounted thus far, but may encounter in the future.\n",
    "\n",
    "#### Would humans need to be involved, or could you automate it all?\n",
    "It seems that the process could be largely automated, but as mentioned in the previous response the process will still need some level of human interaction.  Going back to the missing / null value example, someone will need to ensure that the set of rules that had been put into place to deal with these values is still working properly and that issues and/or edge cases have arose but are not being dealt with.\n",
    "\n",
    "\n",
    "### Option B - Augmenting dimensions\n",
    "\n",
    "Considering your dimensional model, what external data could you find to augment it?  As in the case of bike trips, where weather might provide an interesting added dimension/context not present in the original data, you can probably find another source of data to complement your own model.  Identify one such source and add it to your model, demonstrating its value with a few new queries."
   ]
  },
  {
   "cell_type": "code",
   "execution_count": null,
   "metadata": {
    "collapsed": true
   },
   "outputs": [],
   "source": []
  }
 ],
 "metadata": {
  "anaconda-cloud": {},
  "kernelspec": {
   "display_name": "Python 3",
   "language": "python",
   "name": "python3"
  },
  "language_info": {
   "codemirror_mode": {
    "name": "ipython",
    "version": 3
   },
   "file_extension": ".py",
   "mimetype": "text/x-python",
   "name": "python",
   "nbconvert_exporter": "python",
   "pygments_lexer": "ipython3",
   "version": "3.5.2"
  }
 },
 "nbformat": 4,
 "nbformat_minor": 1
}
