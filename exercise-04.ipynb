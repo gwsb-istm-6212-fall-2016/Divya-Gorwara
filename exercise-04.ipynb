{
 "cells": [
  {
   "cell_type": "markdown",
   "metadata": {},
   "source": [
    "# Exercise 04 - Due Friday, October 21 at 12pm\n",
    "\n",
    "*Objectives*: Gain experience loading a CSV dataset into a database model you define yourself and using SQL to explore its contents. Explore the data by writing and executing a number of SQL queries using common syntax and functions and describing your findings.\n",
    "\n",
    "*Grading criteria*: The tasks should all be completed, and questions should all be answered with SQL queries in the space provided, unless a text answer is requested. Results should be correct, according to the embedded tests. The notebook itself should be completely reproducible; from start to finish, another person should be able to use the same code to obtain the same results as yours.  Note that you will receive no more than partial credit if you do not add text/markdown cells explaining your thinking at each major step in each problem.\n",
    "\n",
    "*Deadline*: Friday, October 21, 12pm. Submit your notebook to Blackboard and push it to your GitHub repository.\n",
    "\n",
    "## Setup - obtain data and create database\n",
    "\n",
    "The US City Open Data Census has data on [restaurant inspections from all over the country](http://us-city.census.okfn.org/dataset/food-safety).  Let's take a look at data from Albuquerque.  *Note*: metadata and other details for this dataset are available at http://data.cabq.gov/business/foodinspections/.\n",
    "\n",
    "Fyi, to save you a step, I've converted this file into a clean CSV file by using the `dos2unix` command to change its line endings and to switch it to use commas instead of tabs using `csvformat -t inputfile.csv > outputfile.csv`.\n",
    "\n",
    "First we download the dataset:"
   ]
  },
  {
   "cell_type": "code",
   "execution_count": 2,
   "metadata": {
    "collapsed": false
   },
   "outputs": [
    {
     "name": "stdout",
     "output_type": "stream",
     "text": [
      "[sudo] password for jovyan: Restarting PostgreSQL 9.5 database server: main.\n"
     ]
    }
   ],
   "source": [
    "!echo 'redspot' | sudo -S service postgresql restart"
   ]
  },
  {
   "cell_type": "code",
   "execution_count": 3,
   "metadata": {
    "collapsed": true
   },
   "outputs": [],
   "source": [
    "!createdb -U dbuser food_inspection"
   ]
  },
  {
   "cell_type": "code",
   "execution_count": 4,
   "metadata": {
    "collapsed": false
   },
   "outputs": [
    {
     "name": "stdout",
     "output_type": "stream",
     "text": [
      "--2016-10-24 04:04:15--  https://raw.githubusercontent.com/gwsb-istm-6212-fall-2016/syllabus-and-schedule/master/exercises/abq-food-inspections-fy2010.csv\n",
      "Resolving raw.githubusercontent.com (raw.githubusercontent.com)... 151.101.32.133\n",
      "Connecting to raw.githubusercontent.com (raw.githubusercontent.com)|151.101.32.133|:443... connected.\n",
      "HTTP request sent, awaiting response... 200 OK\n",
      "Length: 5025226 (4.8M) [text/plain]\n",
      "Saving to: ‘abq-food-inspections-fy2010.csv’\n",
      "\n",
      "abq-food-inspection 100%[=====================>]   4.79M  --.-KB/s   in 0.08s  \n",
      "\n",
      "2016-10-24 04:04:15 (60.4 MB/s) - ‘abq-food-inspections-fy2010.csv’ saved [5025226/5025226]\n",
      "\n"
     ]
    }
   ],
   "source": [
    "!wget https://raw.githubusercontent.com/gwsb-istm-6212-fall-2016/syllabus-and-schedule/master/exercises/abq-food-inspections-fy2010.csv"
   ]
  },
  {
   "cell_type": "markdown",
   "metadata": {},
   "source": [
    "## Problem 1 - examine the data (35 points)\n",
    "\n",
    "Use `csvstat` and other tools as you see fit and observe its contents.  Review the metadata definitions linked to above.  Describe what you see:  What do all the columns mean?  Are there null values?  Which columns interest you the most?  Which columns present some complications or questions you would like to ask?"
   ]
  },
  {
   "cell_type": "code",
   "execution_count": 5,
   "metadata": {
    "collapsed": false
   },
   "outputs": [
    {
     "name": "stdout",
     "output_type": "stream",
     "text": [
      "17557 abq-food-inspections-fy2010.csv\r\n"
     ]
    }
   ],
   "source": [
    "!wc -l abq-food-inspections-fy2010.csv"
   ]
  },
  {
   "cell_type": "markdown",
   "metadata": {},
   "source": [
    "Let's rename the csv file for our convenience."
   ]
  },
  {
   "cell_type": "code",
   "execution_count": 6,
   "metadata": {
    "collapsed": true
   },
   "outputs": [],
   "source": [
    "!mv abq-food-inspections-fy2010.csv food.csv"
   ]
  },
  {
   "cell_type": "markdown",
   "metadata": {},
   "source": [
    "Now, let's see all the column headers in this csv file."
   ]
  },
  {
   "cell_type": "code",
   "execution_count": 6,
   "metadata": {
    "collapsed": false
   },
   "outputs": [
    {
     "name": "stdout",
     "output_type": "stream",
     "text": [
      "  1: FACILITY_NAME\r\n",
      "  2: FACILITY_KEY\r\n",
      "  3: SITE_ADDRESS\r\n",
      "  4: CITY\r\n",
      "  5: STATE\r\n",
      "  6: ZIP\r\n",
      "  7: OWNER_KEY\r\n",
      "  8: OWNER_NAME\r\n",
      "  9: NATURE_OF_BUSINESS\r\n",
      " 10: STREET_NUMBER\r\n",
      " 11: STREET_NAME\r\n",
      " 12: STREET_TYPE\r\n",
      " 13: POST_DIRECTIONAL\r\n",
      " 14: PHONE\r\n",
      " 15: PROGRAM_CATEGORY\r\n",
      " 16: PROGRAM_CATEGORY_DESCRIPTION\r\n",
      " 17: INSPECTION_DATE\r\n",
      " 18: INSPECTION_TYPE\r\n",
      " 19: INSPECTION_DESC\r\n",
      " 20: SERIAL_NUM\r\n",
      " 21: ACTION_CODE\r\n",
      " 22: ACTION_DESC\r\n",
      " 23: RESULT_CODE\r\n",
      " 24: RESULT_DESC\r\n",
      " 25: VIOLATION_CODE\r\n",
      " 26: VIOLATION_DESC\r\n",
      " 27: INSPECTION_MEMO\r\n"
     ]
    }
   ],
   "source": [
    "!csvcut -n food.csv"
   ]
  },
  {
   "cell_type": "code",
   "execution_count": 7,
   "metadata": {
    "collapsed": false
   },
   "outputs": [
    {
     "name": "stdout",
     "output_type": "stream",
     "text": [
      "  1. MARIOS PIZZA AND PASTA EXPRESS INC\r\n",
      "\t<class 'str'>\r\n",
      "\tNulls: False\r\n",
      "\tUnique values: 96\r\n",
      "\t5 most frequent values:\r\n",
      "\t\tOOB CAROM CLUB LLC:\t2\r\n",
      "\t\t99 BANH SUPERMARKET:\t2\r\n",
      "\t\tTHE CUBE RESTAURANT:\t2\r\n",
      "\t\tHASTINGS BOOKS MUSIC & VIDEO:\t1\r\n",
      "\t\tKASEMAN PRESBYTERIAN HOSPITAL:\t1\r\n",
      "\tMax length: 59\r\n",
      "  2. 85411\r\n",
      "\t<class 'int'>\r\n",
      "\tNulls: False\r\n",
      "\tMin: 429\r\n",
      "\tMax: 92750\r\n",
      "\tSum: 4060474\r\n",
      "\tMean: 41014.88888888889\r\n",
      "\tMedian: 40093\r\n",
      "\tStandard Deviation: 30419.53572152125\r\n",
      "\tUnique values: 96\r\n",
      "\t5 most frequent values:\r\n",
      "\t\t18468:\t2\r\n",
      "\t\t72960:\t2\r\n",
      "\t\t66401:\t2\r\n",
      "\t\t13595:\t1\r\n",
      "\t\t24645:\t1\r\n",
      "  3. 5700 4TH ST NW STE F\r\n",
      "\t<class 'str'>\r\n",
      "\tNulls: False\r\n",
      "\tUnique values: 95\r\n",
      "\t5 most frequent values:\r\n",
      "\t\t5315 GIBSON BLVD SE:\t2\r\n",
      "\t\t301 2L CENTRAL ST NW:\t2\r\n",
      "\t\t1520 CENTRAL AV SE:\t2\r\n",
      "\t\t6001 LOMAS BLVD NE:\t2\r\n",
      "\t\t10001 COORS BLVD NW:\t1\r\n",
      "\tMax length: 28\r\n",
      "  4. ALBUQUERQUE\r\n",
      "\t<class 'str'>\r\n",
      "\tNulls: False\r\n",
      "\tValues: ALBUQUERQUE\r\n",
      "  5. NM\r\n",
      "\t<class 'str'>\r\n",
      "\tNulls: False\r\n",
      "\tValues: NM\r\n",
      "  6. 87107\r\n",
      "\t<class 'int'>\r\n",
      "\tNulls: False\r\n",
      "\tMin: 87102\r\n",
      "\tMax: 87123\r\n",
      "\tSum: 8623966\r\n",
      "\tMean: 87110.76767676767\r\n",
      "\tMedian: 87110\r\n",
      "\tStandard Deviation: 5.976094266609224\r\n",
      "\tUnique values: 16\r\n",
      "\t5 most frequent values:\r\n",
      "\t\t87110:\t18\r\n",
      "\t\t87106:\t14\r\n",
      "\t\t87102:\t9\r\n",
      "\t\t87114:\t8\r\n",
      "\t\t87112:\t8\r\n",
      "  7. 77693\r\n",
      "\t<class 'int'>\r\n",
      "\tNulls: False\r\n",
      "\tMin: 21\r\n",
      "\tMax: 83979\r\n",
      "\tSum: 3256360\r\n",
      "\tMean: 32892.52525252525\r\n",
      "\tMedian: 23637\r\n",
      "\tStandard Deviation: 27507.99011356057\r\n",
      "\tUnique values: 89\r\n",
      "\t5 most frequent values:\r\n",
      "\t\t1838:\t4\r\n",
      "\t\t3537:\t2\r\n",
      "\t\t61062:\t2\r\n",
      "\t\t1272:\t2\r\n",
      "\t\t16883:\t2\r\n",
      "  8. MARIOS PIZZA AND PASTA EXPRESS\r\n",
      "\t<class 'str'>\r\n",
      "\tNulls: False\r\n",
      "\tUnique values: 88\r\n",
      "\t5 most frequent values:\r\n",
      "\t\tAPS:\t4\r\n",
      "\t\tGOLDEN CITIES INC:\t2\r\n",
      "\t\tWALGREENS CO:\t2\r\n",
      "\t\tSCS BEVERAGE INC:\t2\r\n",
      "\t\tCIRCLE K STORES INC:\t2\r\n",
      "\tMax length: 59\r\n",
      "  9. RESTAURANT\r\n",
      "\t<class 'str'>\r\n",
      "\tNulls: True\r\n",
      "\tUnique values: 45\r\n",
      "\t5 most frequent values:\r\n",
      "\t\tRESTAURANT:\t32\r\n",
      "\t\tAPS SCHOOL FOOD SERVICE:\t4\r\n",
      "\t\tGROCERY:\t4\r\n",
      "\t\tRETAIL:\t3\r\n",
      "\t\tGAS STATION:\t3\r\n",
      "\tMax length: 25\r\n",
      " 10. 5700\r\n",
      "\t<class 'int'>\r\n",
      "\tNulls: False\r\n",
      "\tMin: 101\r\n",
      "\tMax: 13025\r\n",
      "\tSum: 479679\r\n",
      "\tMean: 4845.242424242424\r\n",
      "\tMedian: 4700\r\n",
      "\tStandard Deviation: 3546.8916028320614\r\n",
      "\tUnique values: 93\r\n",
      "\t5 most frequent values:\r\n",
      "\t\t4700:\t2\r\n",
      "\t\t6001:\t2\r\n",
      "\t\t5315:\t2\r\n",
      "\t\t301:\t2\r\n",
      "\t\t1520:\t2\r\n",
      " 11. 4TH\r\n",
      "\t<class 'str'>\r\n",
      "\tNulls: False\r\n",
      "\tUnique values: 49\r\n",
      "\t5 most frequent values:\r\n",
      "\t\tCENTRAL:\t13\r\n",
      "\t\tMENAUL:\t7\r\n",
      "\t\tEUBANK:\t6\r\n",
      "\t\tLOMAS:\t5\r\n",
      "\t\tCOORS:\t5\r\n",
      "\tMax length: 20\r\n",
      " 12. ST\r\n",
      "\t<class 'str'>\r\n",
      "\tNulls: True\r\n",
      "\tUnique values: 6\r\n",
      "\t5 most frequent values:\r\n",
      "\t\tBLVD:\t44\r\n",
      "\t\tAV:\t17\r\n",
      "\t\tST:\t12\r\n",
      "\t\tRD:\t10\r\n",
      "\t\tDR:\t7\r\n",
      "\tMax length: 4\r\n",
      " 13. NW\r\n",
      "\t<class 'str'>\r\n",
      "\tNulls: True\r\n",
      "\tValues: SE, NW, SW, NE\r\n",
      " 14. 5053795348\r\n",
      "\t<class 'int'>\r\n",
      "\tNulls: True\r\n",
      "\tMin: 2122383000\r\n",
      "\tMax: 9153321301\r\n",
      "\tSum: 464199302517\r\n",
      "\tMean: 5045644592.576087\r\n",
      "\tMedian: 5052938863.5\r\n",
      "\tStandard Deviation: 683163318.104009\r\n",
      "\tUnique values: 89\r\n",
      "\t5 most frequent values:\r\n",
      "\t\t5052176295:\t2\r\n",
      "\t\t5052682422:\t2\r\n",
      "\t\t5052421966:\t2\r\n",
      "\t\t5059220046:\t1\r\n",
      "\t\t5052944095:\t1\r\n",
      " 15. 0406\r\n",
      "\t<class 'str'>\r\n",
      "\tNulls: False\r\n",
      "\tUnique values: 18\r\n",
      "\t5 most frequent values:\r\n",
      "\t\t0406:\t47\r\n",
      "\t\t0606:\t9\r\n",
      "\t\t0404:\t5\r\n",
      "\t\t0608:\t5\r\n",
      "\t\t0607:\t5\r\n",
      "\tMax length: 4\r\n",
      " 16. Food Service Establishment\r\n",
      "\t<class 'str'>\r\n",
      "\tNulls: True\r\n",
      "\tUnique values: 17\r\n",
      "\t5 most frequent values:\r\n",
      "\t\tFood Service Establishment:\t47\r\n",
      "\t\tRetail - Prepackage Only:\t9\r\n",
      "\t\tInstitutional Kitchen:\t5\r\n",
      "\t\tRetail - Self Service & Prepackage Foods:\t5\r\n",
      "\t\tBar:\t5\r\n",
      "\tMax length: 40\r\n",
      " 17. 2010-01-13 00:00:00\r\n",
      "\t<class 'datetime.date'>\r\n",
      "\tNulls: False\r\n",
      "\tMin: 2009-07-02\r\n",
      "\tMax: 2010-06-30\r\n",
      "\tUnique values: 84\r\n",
      "\t5 most frequent values:\r\n",
      "\t\t2010-03-08:\t4\r\n",
      "\t\t2010-03-11:\t2\r\n",
      "\t\t2009-09-10:\t2\r\n",
      "\t\t2009-12-28:\t2\r\n",
      "\t\t2009-09-28:\t2\r\n",
      " 18. _unnamed\r\n",
      "\t<class 'NoneType'>\r\n",
      "\tNulls: True\r\n",
      "\tValues: \r\n",
      " 19. ROUTINE FOOD INSPECTION\r\n",
      "\t<class 'str'>\r\n",
      "\tNulls: False\r\n",
      "\tUnique values: 9\r\n",
      "\t5 most frequent values:\r\n",
      "\t\tROUTINE FOOD INSPECTION:\t72\r\n",
      "\t\tEMERGENCY RESPONSE:\t12\r\n",
      "\t\tNew Business Inspection:\t5\r\n",
      "\t\tPRE-OPENING FOOD INSPECTION:\t4\r\n",
      "\t\tADDITIONAL SERVICE PROVIDED:\t2\r\n",
      "\tMax length: 32\r\n",
      " 20. DA7006627\r\n",
      "\t<class 'str'>\r\n",
      "\tNulls: False\r\n",
      "\tUnique values: 99\r\n",
      "\tMax length: 9\r\n",
      " 21. 11\r\n",
      "\t<class 'str'>\r\n",
      "\tNulls: False\r\n",
      "\tValues: 06, 00, 11\r\n",
      " 22. APPROVED\r\n",
      "\t<class 'str'>\r\n",
      "\tNulls: False\r\n",
      "\tValues: UNSATISFACTORY, APPROVED, NON-GRADED\r\n",
      " 23. 03\r\n",
      "\t<class 'str'>\r\n",
      "\tNulls: False\r\n",
      "\tValues: 18, 07, 00, 03, 05\r\n",
      " 24. IN COMPLIANCE\r\n",
      "\t<class 'str'>\r\n",
      "\tNulls: False\r\n",
      "\tValues: NOT APPLICABLE, PERMIT SUSPENSION, DOWNGRADE, TRAINING RECEIVED, IN COMPLIANCE\r\n",
      " 25.     55    \r\n",
      "\t<class 'str'>\r\n",
      "\tNulls: True\r\n",
      "\tUnique values: 15\r\n",
      "\t5 most frequent values:\r\n",
      "\t\t55:\t38\r\n",
      "\t\t00:\t18\r\n",
      "\t\t38:\t8\r\n",
      "\t\t42:\t7\r\n",
      "\t\t68:\t7\r\n",
      "\tMax length: 4\r\n",
      " 26. Additional Comments\r\n",
      "\t<class 'str'>\r\n",
      "\tNulls: True\r\n",
      "\tUnique values: 15\r\n",
      "\t5 most frequent values:\r\n",
      "\t\tAdditional Comments:\t38\r\n",
      "\t\tNo Violations Found:\t18\r\n",
      "\t\tFood unprotected:\t8\r\n",
      "\t\tPlumbing: Improperly installed/maintained/supplied:\t7\r\n",
      "\t\tDelivered Informational Brochure:\t7\r\n",
      "\tMax length: 50\r\n",
      " 27. _unnamed\r\n",
      "\t<class 'NoneType'>\r\n",
      "\tNulls: True\r\n",
      "\tValues: \r\n",
      "\r\n",
      "Row count: 99\r\n"
     ]
    }
   ],
   "source": [
    "!shuf -n 100 food.csv | csvstat"
   ]
  },
  {
   "cell_type": "markdown",
   "metadata": {},
   "source": [
    "Using csvstat we got data about all 27 coloumns in the csv file. The Above csvstat analysis shows the present of nulls in certain columns. It also tells the type of values in that particular column and the maximum length as well."
   ]
  },
  {
   "cell_type": "markdown",
   "metadata": {},
   "source": [
    "I performed csvstat on the three columns of intersest to me. It tells us, which facility was inspected on which date. It also has the inspection type column which is wholly null."
   ]
  },
  {
   "cell_type": "code",
   "execution_count": 8,
   "metadata": {
    "collapsed": false
   },
   "outputs": [
    {
     "name": "stdout",
     "output_type": "stream",
     "text": [
      "  1. FACILITY_NAME\r\n",
      "\t<class 'str'>\r\n",
      "\tNulls: False\r\n",
      "\tUnique values: 126\r\n",
      "\t5 most frequent values:\r\n",
      "\t\t99 BANH SUPERMARKET:\t57\r\n",
      "\t\tALBERTSONS 904:\t28\r\n",
      "\t\tALBERTSONS 922:\t23\r\n",
      "\t\tALBERTSONS 937:\t22\r\n",
      "\t\tALBERTSONS 911:\t22\r\n",
      "\tMax length: 34\r\n",
      "  2. INSPECTION_DATE\r\n",
      "\t<class 'datetime.date'>\r\n",
      "\tNulls: False\r\n",
      "\tMin: 2009-07-01\r\n",
      "\tMax: 2010-06-24\r\n",
      "\tUnique values: 159\r\n",
      "\t5 most frequent values:\r\n",
      "\t\t2009-12-30:\t31\r\n",
      "\t\t2009-12-23:\t29\r\n",
      "\t\t2010-01-29:\t27\r\n",
      "\t\t2009-07-21:\t26\r\n",
      "\t\t2009-07-29:\t20\r\n",
      "  3. INSPECTION_TYPE\r\n",
      "\t<class 'NoneType'>\r\n",
      "\tNulls: True\r\n",
      "\tValues: \r\n",
      "\r\n",
      "Row count: 999\r\n"
     ]
    }
   ],
   "source": [
    "!head -1000 food.csv | csvcut -c1,17,18 | csvstat "
   ]
  },
  {
   "cell_type": "markdown",
   "metadata": {},
   "source": [
    "Csvcut code to look at different columns of interest to us."
   ]
  },
  {
   "cell_type": "code",
   "execution_count": 17,
   "metadata": {
    "collapsed": false
   },
   "outputs": [
    {
     "name": "stdout",
     "output_type": "stream",
     "text": [
      "|--------------------------+---------------------+-----------------|\r\n",
      "|  FACILITY_NAME           | INSPECTION_DATE     | VIOLATION_CODE  |\r\n",
      "|--------------------------+---------------------+-----------------|\r\n",
      "|  00BSAY IT WITH CAKE     | 2009-10-21 00:00:00 |     68          |\r\n",
      "|  00BSAY IT WITH CAKE     | 2009-10-21 00:00:00 |     00          |\r\n",
      "|  00BSAY IT WITH CAKE     | 2009-10-21 00:00:00 |     55          |\r\n",
      "|  00BSAY IT WITH CAKE     | 2010-04-14 00:00:00 |     00          |\r\n",
      "|  00BSAY IT WITH CAKE     | 2010-04-14 00:00:00 |     55          |\r\n",
      "|  2000 VIETNAM RESTAURANT | 2010-03-23 00:00:00 |     34          |\r\n",
      "|  2000 VIETNAM RESTAURANT | 2010-03-23 00:00:00 |     35          |\r\n",
      "|  2000 VIETNAM RESTAURANT | 2010-03-23 00:00:00 |     55          |\r\n",
      "|  328 CHINESE CUISINE     | 2009-12-15 00:00:00 |     68          |\r\n",
      "|--------------------------+---------------------+-----------------|\r\n"
     ]
    }
   ],
   "source": [
    "!csvcut -c1,17,25 food.csv | head -10 | csvlook"
   ]
  },
  {
   "cell_type": "markdown",
   "metadata": {},
   "source": [
    "Code to find out, how many times facility 7 eleven was inspected and when."
   ]
  },
  {
   "cell_type": "code",
   "execution_count": 18,
   "metadata": {
    "collapsed": false
   },
   "outputs": [
    {
     "name": "stdout",
     "output_type": "stream",
     "text": [
      "|----------------+-----------------+-----------------|\r\n",
      "|  FACILITY_NAME | INSPECTION_DATE | VIOLATION_CODE  |\r\n",
      "|----------------+-----------------+-----------------|\r\n",
      "|  7 ELEVEN 706  | 2009-07-09      | 00              |\r\n",
      "|  7 ELEVEN 706  | 2009-07-09      | 55              |\r\n",
      "|  7 ELEVEN 707  | 2009-07-14      | 02              |\r\n",
      "|  7 ELEVEN 707  | 2009-07-14      | 55              |\r\n",
      "|  7 ELEVEN 719  | 2009-07-23      | 02              |\r\n",
      "|  7 ELEVEN 719  | 2009-07-23      | 55              |\r\n",
      "|  7 ELEVEN 700  | 2009-07-27      | 02              |\r\n",
      "|  7 ELEVEN 700  | 2009-07-27      | 55              |\r\n",
      "|  7 ELEVEN 709  | 2009-07-28      | 00              |\r\n",
      "|----------------+-----------------+-----------------|\r\n"
     ]
    }
   ],
   "source": [
    "!csvcut -c1,17,25 food.csv | csvgrep -c1 -m '7 ELEVEN' | csvsort -c2 | head -10 | csvlook\n"
   ]
  },
  {
   "cell_type": "markdown",
   "metadata": {},
   "source": [
    "Insert a combination of code and text/markdown cells here to review the data and describe what you find."
   ]
  },
  {
   "cell_type": "markdown",
   "metadata": {},
   "source": [
    "## Problem 2 - define a database model and load the data (35 points)\n",
    "\n",
    "Based on what you found above, create and connect to a new database, define a database table in it, and load this dataset into it.  You may use either of the methods for this step you have seen in earlier class notebooks.  You may choose to eliminate variables/columns if they are not relevant or interesting to you - explain your reasoning if you do.  Either way, you should load a majority of the columns present in the source dataset into the database and all of its rows.\n",
    "\n",
    "Once your data has loaded successfully, run a `COUNT(*)` query to verify that all the data has loaded correctly.\n",
    "\n",
    "Insert a combination of code and text/markdown cells here to connect to your database, define your table, load its data, and verify the loaded records."
   ]
  },
  {
   "cell_type": "code",
   "execution_count": 9,
   "metadata": {
    "collapsed": false
   },
   "outputs": [
    {
     "name": "stderr",
     "output_type": "stream",
     "text": [
      "/opt/conda/lib/python3.5/site-packages/IPython/config.py:13: ShimWarning: The `IPython.config` package has been deprecated. You should import from traitlets.config instead.\n",
      "  \"You should import from traitlets.config instead.\", ShimWarning)\n",
      "/opt/conda/lib/python3.5/site-packages/IPython/utils/traitlets.py:5: UserWarning: IPython.utils.traitlets has moved to a top-level traitlets package.\n",
      "  warn(\"IPython.utils.traitlets has moved to a top-level traitlets package.\")\n"
     ]
    }
   ],
   "source": [
    "%load_ext sql"
   ]
  },
  {
   "cell_type": "code",
   "execution_count": 10,
   "metadata": {
    "collapsed": false
   },
   "outputs": [
    {
     "data": {
      "text/plain": [
       "'Connected: dbuser@food_inspection'"
      ]
     },
     "execution_count": 10,
     "metadata": {},
     "output_type": "execute_result"
    }
   ],
   "source": [
    "%sql postgresql://dbuser@localhost:5432/food_inspection"
   ]
  },
  {
   "cell_type": "markdown",
   "metadata": {},
   "source": [
    "Since we have already created the database and connected it, let's make a table to load all the csv file (i.e. food) data into it."
   ]
  },
  {
   "cell_type": "code",
   "execution_count": 11,
   "metadata": {
    "collapsed": false
   },
   "outputs": [
    {
     "name": "stdout",
     "output_type": "stream",
     "text": [
      "Done.\n",
      "Done.\n"
     ]
    },
    {
     "data": {
      "text/plain": [
       "[]"
      ]
     },
     "execution_count": 11,
     "metadata": {},
     "output_type": "execute_result"
    }
   ],
   "source": [
    "%%sql\n",
    "DROP TABLE IF EXISTS food;\n",
    "CREATE TABLE food(\n",
    "  FACILITY_NAME VARCHAR(256),\n",
    "  FACILITY_KEY INTEGER,\n",
    "  SITE_ADDRESS VARCHAR(128),\n",
    "  CITY VARCHAR(64),\n",
    "  STATE VARCHAR(64),\n",
    "  ZIP VARCHAR(64),\n",
    "  OWNER_KEY INTEGER,\n",
    "  OWNER_NAME VARCHAR(256),\n",
    "  BUSINESS_NATURE VARCHAR(128),\n",
    "  ST_NUM VARCHAR(64),\n",
    "  ST_NAME VARCHAR(64),\n",
    "  ST_TYPE VARCHAR(64),\n",
    "  POST_DIRECTION VARCHAR(64),\n",
    "  PHONE VARCHAR(64),\n",
    "  PROGRAM_CATEGORY_ID INTEGER,\n",
    "  PROGRAM_CATEGORY_DESC VARCHAR(128),\n",
    "  INSPECTION_DATE TIMESTAMP,\n",
    "  INSPECTION_TYPE VARCHAR(16),\n",
    "  INSPECTION_DESC VARCHAR(128),\n",
    "  SERIAL_NUM VARCHAR(64),\n",
    "  ACTION_CODE VARCHAR(64),\n",
    "  ACTION_DESC VARCHAR(128),\n",
    "  RESULT_CODE INTEGER,\n",
    "  RESULT_DESC VARCHAR(128),\n",
    "  VIOLATION_CODE VARCHAR(64),\n",
    "  VIOLATION_DESC VARCHAR(128),\n",
    "  INSPECTION_MEMO VARCHAR(1024)\n",
    ")"
   ]
  },
  {
   "cell_type": "code",
   "execution_count": 12,
   "metadata": {
    "collapsed": false
   },
   "outputs": [
    {
     "name": "stdout",
     "output_type": "stream",
     "text": [
      "/home/jovyan/work\r\n"
     ]
    }
   ],
   "source": [
    "!pwd"
   ]
  },
  {
   "cell_type": "markdown",
   "metadata": {},
   "source": [
    "Now, we will load the data into the table that we created using sql."
   ]
  },
  {
   "cell_type": "code",
   "execution_count": 13,
   "metadata": {
    "collapsed": false
   },
   "outputs": [
    {
     "name": "stdout",
     "output_type": "stream",
     "text": [
      "17556 rows affected.\n"
     ]
    },
    {
     "data": {
      "text/plain": [
       "[]"
      ]
     },
     "execution_count": 13,
     "metadata": {},
     "output_type": "execute_result"
    }
   ],
   "source": [
    "%%sql\n",
    "COPY food FROM '/home/jovyan/work/food.csv'\n",
    "CSV\n",
    "HEADER\n",
    "QUOTE '\"'\n",
    "DELIMITER ',';"
   ]
  },
  {
   "cell_type": "code",
   "execution_count": 14,
   "metadata": {
    "collapsed": false
   },
   "outputs": [
    {
     "name": "stdout",
     "output_type": "stream",
     "text": [
      "1 rows affected.\n"
     ]
    },
    {
     "data": {
      "text/html": [
       "<table>\n",
       "    <tr>\n",
       "        <th>count</th>\n",
       "    </tr>\n",
       "    <tr>\n",
       "        <td>17556</td>\n",
       "    </tr>\n",
       "</table>"
      ],
      "text/plain": [
       "[(17556,)]"
      ]
     },
     "execution_count": 14,
     "metadata": {},
     "output_type": "execute_result"
    }
   ],
   "source": [
    "%%sql\n",
    "SELECT COUNT(*) FROM food;"
   ]
  },
  {
   "cell_type": "markdown",
   "metadata": {},
   "source": [
    "The count from the above sql query is same as the number of rows affected while loading the data into the table. This means we have succesfully loaded the csv data into the table in our database."
   ]
  },
  {
   "cell_type": "markdown",
   "metadata": {},
   "source": [
    "## Problem 3 - explore your data (30 points)\n",
    "\n",
    "Now that the data is loaded, ask some questions of it!  Identify key variables of interest and note their ranges along with other useful descriptive statistics.  Choose and define a few lines of inquiry, execute queries for each, and describe what you find in your result sets.  Use any query techniques we've seen in class, including aggregate functions, transformations, subqueries, or others as appropriate. \n",
    "\n",
    "If you find interesting patterns, adding plots to your exploration would be useful.\n",
    "\n",
    "Insert a combination of code and text/markdown cells here to explore your data."
   ]
  },
  {
   "cell_type": "markdown",
   "metadata": {},
   "source": [
    "Now, lets explore the data we just loaded in our database. I've set limit to 10 in all the queries just for the convenience."
   ]
  },
  {
   "cell_type": "code",
   "execution_count": 15,
   "metadata": {
    "collapsed": false
   },
   "outputs": [
    {
     "name": "stdout",
     "output_type": "stream",
     "text": [
      "10 rows affected.\n"
     ]
    },
    {
     "data": {
      "text/html": [
       "<table>\n",
       "    <tr>\n",
       "        <th>program_category_id</th>\n",
       "        <th>program_category_desc</th>\n",
       "    </tr>\n",
       "    <tr>\n",
       "        <td>403</td>\n",
       "        <td>Bakery</td>\n",
       "    </tr>\n",
       "    <tr>\n",
       "        <td>501</td>\n",
       "        <td>Bar</td>\n",
       "    </tr>\n",
       "    <tr>\n",
       "        <td>402</td>\n",
       "        <td>Childcare</td>\n",
       "    </tr>\n",
       "    <tr>\n",
       "        <td>405</td>\n",
       "        <td>Food Processor</td>\n",
       "    </tr>\n",
       "    <tr>\n",
       "        <td>406</td>\n",
       "        <td>Food Service Establishment</td>\n",
       "    </tr>\n",
       "    <tr>\n",
       "        <td>1003</td>\n",
       "        <td>Food/Drink Vending - Up to 15 Units</td>\n",
       "    </tr>\n",
       "    <tr>\n",
       "        <td>1000</td>\n",
       "        <td>Frozen Food Truck</td>\n",
       "    </tr>\n",
       "    <tr>\n",
       "        <td>404</td>\n",
       "        <td>Institutional Kitchen</td>\n",
       "    </tr>\n",
       "    <tr>\n",
       "        <td>407</td>\n",
       "        <td>Limited Menu</td>\n",
       "    </tr>\n",
       "    <tr>\n",
       "        <td>602</td>\n",
       "        <td>Meat Market</td>\n",
       "    </tr>\n",
       "</table>"
      ],
      "text/plain": [
       "[(403, 'Bakery'),\n",
       " (501, 'Bar'),\n",
       " (402, 'Childcare'),\n",
       " (405, 'Food Processor'),\n",
       " (406, 'Food Service Establishment'),\n",
       " (1003, 'Food/Drink Vending - Up to 15 Units'),\n",
       " (1000, 'Frozen Food Truck'),\n",
       " (404, 'Institutional Kitchen'),\n",
       " (407, 'Limited Menu'),\n",
       " (602, 'Meat Market')]"
      ]
     },
     "execution_count": 15,
     "metadata": {},
     "output_type": "execute_result"
    }
   ],
   "source": [
    "%%sql\n",
    "SELECT DISTINCT PROGRAM_CATEGORY_ID, PROGRAM_CATEGORY_DESC\n",
    "FROM food\n",
    "ORDER BY PROGRAM_CATEGORY_DESC\n",
    "LIMIT 10;"
   ]
  },
  {
   "cell_type": "code",
   "execution_count": 16,
   "metadata": {
    "collapsed": false
   },
   "outputs": [
    {
     "name": "stdout",
     "output_type": "stream",
     "text": [
      "10 rows affected.\n"
     ]
    },
    {
     "data": {
      "text/html": [
       "<table>\n",
       "    <tr>\n",
       "        <th>business_nature</th>\n",
       "    </tr>\n",
       "    <tr>\n",
       "        <td>None</td>\n",
       "    </tr>\n",
       "    <tr>\n",
       "        <td>DIST. SERVICE</td>\n",
       "    </tr>\n",
       "    <tr>\n",
       "        <td>COOKING CONSULTANT</td>\n",
       "    </tr>\n",
       "    <tr>\n",
       "        <td>REDI MART</td>\n",
       "    </tr>\n",
       "    <tr>\n",
       "        <td>MUR/RESTAURANT</td>\n",
       "    </tr>\n",
       "    <tr>\n",
       "        <td>RETAIL COFFEE SALES</td>\n",
       "    </tr>\n",
       "    <tr>\n",
       "        <td>RETAIL COFFEE/FOOD</td>\n",
       "    </tr>\n",
       "    <tr>\n",
       "        <td>BAR/PROC/REST</td>\n",
       "    </tr>\n",
       "    <tr>\n",
       "        <td>WHOLE SALE SEAFOOD</td>\n",
       "    </tr>\n",
       "    <tr>\n",
       "        <td>SCHOOL</td>\n",
       "    </tr>\n",
       "</table>"
      ],
      "text/plain": [
       "[(None,),\n",
       " ('DIST. SERVICE',),\n",
       " ('COOKING CONSULTANT',),\n",
       " ('REDI MART',),\n",
       " ('MUR/RESTAURANT',),\n",
       " ('RETAIL COFFEE SALES',),\n",
       " ('RETAIL COFFEE/FOOD',),\n",
       " ('BAR/PROC/REST',),\n",
       " ('WHOLE SALE SEAFOOD',),\n",
       " ('SCHOOL',)]"
      ]
     },
     "execution_count": 16,
     "metadata": {},
     "output_type": "execute_result"
    }
   ],
   "source": [
    "%%sql\n",
    "SELECT DISTINCT BUSINESS_NATURE\n",
    "FROM food\n",
    "LIMIT 10;"
   ]
  },
  {
   "cell_type": "markdown",
   "metadata": {},
   "source": [
    "A general query to list all important columns in the table."
   ]
  },
  {
   "cell_type": "code",
   "execution_count": 17,
   "metadata": {
    "collapsed": false
   },
   "outputs": [
    {
     "name": "stdout",
     "output_type": "stream",
     "text": [
      "10 rows affected.\n"
     ]
    },
    {
     "data": {
      "text/html": [
       "<table>\n",
       "    <tr>\n",
       "        <th>owner_name</th>\n",
       "        <th>facility_name</th>\n",
       "        <th>business_nature</th>\n",
       "        <th>inspection_date</th>\n",
       "        <th>program_category_desc</th>\n",
       "        <th>violation_code</th>\n",
       "    </tr>\n",
       "    <tr>\n",
       "        <td>110 SUNPORT LLC</td>\n",
       "        <td>HOLIDAY INN EXPRESS</td>\n",
       "        <td>HOTEL</td>\n",
       "        <td>2009-09-11 00:00:00</td>\n",
       "        <td>Food Service Establishment</td>\n",
       "        <td>&nbsp;&nbsp;&nbsp;&nbsp;55    </td>\n",
       "    </tr>\n",
       "    <tr>\n",
       "        <td>110 SUNPORT LLC</td>\n",
       "        <td>HOLIDAY INN EXPRESS</td>\n",
       "        <td>HOTEL</td>\n",
       "        <td>2010-03-29 00:00:00</td>\n",
       "        <td>Food Service Establishment</td>\n",
       "        <td>&nbsp;&nbsp;&nbsp;&nbsp;55    </td>\n",
       "    </tr>\n",
       "    <tr>\n",
       "        <td>110 SUNPORT LLC</td>\n",
       "        <td>HOLIDAY INN EXPRESS</td>\n",
       "        <td>HOTEL</td>\n",
       "        <td>2009-08-19 00:00:00</td>\n",
       "        <td>Food Service Establishment</td>\n",
       "        <td>None</td>\n",
       "    </tr>\n",
       "    <tr>\n",
       "        <td>110 SUNPORT LLC</td>\n",
       "        <td>HOLIDAY INN EXPRESS</td>\n",
       "        <td>HOTEL</td>\n",
       "        <td>2010-03-29 00:00:00</td>\n",
       "        <td>Food Service Establishment</td>\n",
       "        <td>&nbsp;&nbsp;&nbsp;&nbsp;00    </td>\n",
       "    </tr>\n",
       "    <tr>\n",
       "        <td>110 SUNPORT LLC</td>\n",
       "        <td>HOLIDAY INN EXPRESS</td>\n",
       "        <td>HOTEL</td>\n",
       "        <td>2009-09-11 00:00:00</td>\n",
       "        <td>Food Service Establishment</td>\n",
       "        <td>&nbsp;&nbsp;&nbsp;&nbsp;00    </td>\n",
       "    </tr>\n",
       "    <tr>\n",
       "        <td>1ST CLASS LEARNING CENTER</td>\n",
       "        <td>OOB 1ST CLASS LEARNING CENTER</td>\n",
       "        <td>CHILDCARE CENTER &amp; PR</td>\n",
       "        <td>2009-08-18 00:00:00</td>\n",
       "        <td>Childcare</td>\n",
       "        <td>&nbsp;&nbsp;&nbsp;&nbsp;00    </td>\n",
       "    </tr>\n",
       "    <tr>\n",
       "        <td>1ST CLASS LEARNING CENTER</td>\n",
       "        <td>OOB 1ST CLASS LEARNING CENTER</td>\n",
       "        <td>CHILDCARE CENTER &amp; PR</td>\n",
       "        <td>2010-01-21 00:00:00</td>\n",
       "        <td>Childcare</td>\n",
       "        <td>&nbsp;&nbsp;&nbsp;&nbsp;55    </td>\n",
       "    </tr>\n",
       "    <tr>\n",
       "        <td>1ST CLASS LEARNING CENTER</td>\n",
       "        <td>OOB 1ST CLASS LEARNING CENTER</td>\n",
       "        <td>CHILDCARE CENTER &amp; PR</td>\n",
       "        <td>2010-01-21 00:00:00</td>\n",
       "        <td>Childcare</td>\n",
       "        <td>&nbsp;&nbsp;&nbsp;&nbsp;40    </td>\n",
       "    </tr>\n",
       "    <tr>\n",
       "        <td>1ST CLASS LEARNING CENTER</td>\n",
       "        <td>OOB 1ST CLASS LEARNING CENTER</td>\n",
       "        <td>CHILDCARE CENTER &amp; PR</td>\n",
       "        <td>2010-01-21 00:00:00</td>\n",
       "        <td>Childcare</td>\n",
       "        <td>&nbsp;&nbsp;&nbsp;&nbsp;38    </td>\n",
       "    </tr>\n",
       "    <tr>\n",
       "        <td>1ST CLASS LEARNING CENTER</td>\n",
       "        <td>OOB 1ST CLASS LEARNING CENTER</td>\n",
       "        <td>CHILDCARE CENTER &amp; PR</td>\n",
       "        <td>2009-08-18 00:00:00</td>\n",
       "        <td>Childcare</td>\n",
       "        <td>&nbsp;&nbsp;&nbsp;&nbsp;55    </td>\n",
       "    </tr>\n",
       "</table>"
      ],
      "text/plain": [
       "[('110 SUNPORT LLC', 'HOLIDAY INN EXPRESS', 'HOTEL', datetime.datetime(2009, 9, 11, 0, 0), 'Food Service Establishment', '    55    '),\n",
       " ('110 SUNPORT LLC', 'HOLIDAY INN EXPRESS', 'HOTEL', datetime.datetime(2010, 3, 29, 0, 0), 'Food Service Establishment', '    55    '),\n",
       " ('110 SUNPORT LLC', 'HOLIDAY INN EXPRESS', 'HOTEL', datetime.datetime(2009, 8, 19, 0, 0), 'Food Service Establishment', None),\n",
       " ('110 SUNPORT LLC', 'HOLIDAY INN EXPRESS', 'HOTEL', datetime.datetime(2010, 3, 29, 0, 0), 'Food Service Establishment', '    00    '),\n",
       " ('110 SUNPORT LLC', 'HOLIDAY INN EXPRESS', 'HOTEL', datetime.datetime(2009, 9, 11, 0, 0), 'Food Service Establishment', '    00    '),\n",
       " ('1ST CLASS LEARNING CENTER', 'OOB 1ST CLASS LEARNING CENTER', 'CHILDCARE CENTER & PR', datetime.datetime(2009, 8, 18, 0, 0), 'Childcare', '    00    '),\n",
       " ('1ST CLASS LEARNING CENTER', 'OOB 1ST CLASS LEARNING CENTER', 'CHILDCARE CENTER & PR', datetime.datetime(2010, 1, 21, 0, 0), 'Childcare', '    55    '),\n",
       " ('1ST CLASS LEARNING CENTER', 'OOB 1ST CLASS LEARNING CENTER', 'CHILDCARE CENTER & PR', datetime.datetime(2010, 1, 21, 0, 0), 'Childcare', '    40    '),\n",
       " ('1ST CLASS LEARNING CENTER', 'OOB 1ST CLASS LEARNING CENTER', 'CHILDCARE CENTER & PR', datetime.datetime(2010, 1, 21, 0, 0), 'Childcare', '    38    '),\n",
       " ('1ST CLASS LEARNING CENTER', 'OOB 1ST CLASS LEARNING CENTER', 'CHILDCARE CENTER & PR', datetime.datetime(2009, 8, 18, 0, 0), 'Childcare', '    55    ')]"
      ]
     },
     "execution_count": 17,
     "metadata": {},
     "output_type": "execute_result"
    }
   ],
   "source": [
    "%%sql\n",
    "SELECT OWNER_NAME, FACILITY_NAME, BUSINESS_NATURE, INSPECTION_DATE, PROGRAM_CATEGORY_DESC, VIOLATION_CODE\n",
    "FROM food\n",
    "GROUP BY OWNER_NAME,BUSINESS_NATURE, FACILITY_NAME, INSPECTION_DATE, PROGRAM_CATEGORY_DESC, vIOLATION_CODE\n",
    "ORDER BY OWNER_NAME\n",
    "LIMIT 10;"
   ]
  },
  {
   "cell_type": "markdown",
   "metadata": {},
   "source": [
    "Query to check which facility name has occurred how many times. The result of this query shows the top 10 most frequently inspected facilities."
   ]
  },
  {
   "cell_type": "code",
   "execution_count": 18,
   "metadata": {
    "collapsed": false
   },
   "outputs": [
    {
     "name": "stdout",
     "output_type": "stream",
     "text": [
      "10 rows affected.\n"
     ]
    },
    {
     "data": {
      "text/html": [
       "<table>\n",
       "    <tr>\n",
       "        <th>facility_name</th>\n",
       "        <th>facility_count</th>\n",
       "        <th>st_name</th>\n",
       "        <th>st_num</th>\n",
       "    </tr>\n",
       "    <tr>\n",
       "        <td>ISOTOPES PARK - OVATIONS</td>\n",
       "        <td>93</td>\n",
       "        <td>AVENIDA CESAR CHAVEZ</td>\n",
       "        <td>1601</td>\n",
       "    </tr>\n",
       "    <tr>\n",
       "        <td>PER EHSII CECELIA GARCIA OOB LA REYNA DEL SUR</td>\n",
       "        <td>85</td>\n",
       "        <td>OLD COORS</td>\n",
       "        <td>644</td>\n",
       "    </tr>\n",
       "    <tr>\n",
       "        <td>ISLETA AMPHITHEATER</td>\n",
       "        <td>68</td>\n",
       "        <td>UNIVERSITY</td>\n",
       "        <td>5601</td>\n",
       "    </tr>\n",
       "    <tr>\n",
       "        <td>ECHO INC</td>\n",
       "        <td>68</td>\n",
       "        <td>MENAUL</td>\n",
       "        <td>300</td>\n",
       "    </tr>\n",
       "    <tr>\n",
       "        <td>CIRCLE K 8936</td>\n",
       "        <td>66</td>\n",
       "        <td>CENTRAL</td>\n",
       "        <td>5210</td>\n",
       "    </tr>\n",
       "    <tr>\n",
       "        <td>OOB CALIFORNIA DEL NORTE ICE CREAM LLC</td>\n",
       "        <td>65</td>\n",
       "        <td>4TH</td>\n",
       "        <td>1415</td>\n",
       "    </tr>\n",
       "    <tr>\n",
       "        <td>TALIN MARKET WORLD FOOD FARE</td>\n",
       "        <td>64</td>\n",
       "        <td>LOUISIANA</td>\n",
       "        <td>88</td>\n",
       "    </tr>\n",
       "    <tr>\n",
       "        <td>CIRCLE K 8940</td>\n",
       "        <td>61</td>\n",
       "        <td>CENTRAL</td>\n",
       "        <td>8601</td>\n",
       "    </tr>\n",
       "    <tr>\n",
       "        <td>OOB MOM THAI FOOD</td>\n",
       "        <td>61</td>\n",
       "        <td>SAN PEDRO</td>\n",
       "        <td>1212</td>\n",
       "    </tr>\n",
       "    <tr>\n",
       "        <td>DIONS PIZZA</td>\n",
       "        <td>61</td>\n",
       "        <td>4TH</td>\n",
       "        <td>6308</td>\n",
       "    </tr>\n",
       "</table>"
      ],
      "text/plain": [
       "[('ISOTOPES PARK - OVATIONS', 93, 'AVENIDA CESAR CHAVEZ', '1601'),\n",
       " ('PER EHSII CECELIA GARCIA OOB LA REYNA DEL SUR', 85, 'OLD COORS', '644'),\n",
       " ('ISLETA AMPHITHEATER', 68, 'UNIVERSITY', '5601'),\n",
       " ('ECHO INC', 68, 'MENAUL', '300'),\n",
       " ('CIRCLE K 8936', 66, 'CENTRAL', '5210'),\n",
       " ('OOB CALIFORNIA DEL NORTE ICE CREAM LLC', 65, '4TH', '1415'),\n",
       " ('TALIN MARKET WORLD FOOD FARE', 64, 'LOUISIANA', '88'),\n",
       " ('CIRCLE K 8940', 61, 'CENTRAL', '8601'),\n",
       " ('OOB MOM THAI FOOD', 61, 'SAN PEDRO', '1212'),\n",
       " ('DIONS PIZZA', 61, '4TH', '6308')]"
      ]
     },
     "execution_count": 18,
     "metadata": {},
     "output_type": "execute_result"
    }
   ],
   "source": [
    "%%sql\n",
    "SELECT FACILITY_NAME, COUNT(*)AS FACILITY_COUNT, ST_NAME, ST_NUM\n",
    "FROM food\n",
    "GROUP BY FACILITY_NAME, ST_NAME, ST_NUM\n",
    "ORDER BY FACILITY_COUNT DESC\n",
    "LIMIT 10;"
   ]
  },
  {
   "cell_type": "markdown",
   "metadata": {},
   "source": [
    "A query to check where the violation code is null."
   ]
  },
  {
   "cell_type": "code",
   "execution_count": 19,
   "metadata": {
    "collapsed": false
   },
   "outputs": [
    {
     "name": "stdout",
     "output_type": "stream",
     "text": [
      "10 rows affected.\n"
     ]
    },
    {
     "data": {
      "text/html": [
       "<table>\n",
       "    <tr>\n",
       "        <th>facility_name</th>\n",
       "        <th>violation_code</th>\n",
       "    </tr>\n",
       "    <tr>\n",
       "        <td>5 STAR BURGERS</td>\n",
       "        <td>None</td>\n",
       "    </tr>\n",
       "    <tr>\n",
       "        <td>ABC PRESCHOOL</td>\n",
       "        <td>None</td>\n",
       "    </tr>\n",
       "    <tr>\n",
       "        <td>ABF FUELING LLC</td>\n",
       "        <td>None</td>\n",
       "    </tr>\n",
       "    <tr>\n",
       "        <td>ABF FUELING LLC</td>\n",
       "        <td>None</td>\n",
       "    </tr>\n",
       "    <tr>\n",
       "        <td>ACAPULCO MEXICAN RESTAURANT</td>\n",
       "        <td>None</td>\n",
       "    </tr>\n",
       "    <tr>\n",
       "        <td>AFC SUSHI AT SMITHS 427</td>\n",
       "        <td>None</td>\n",
       "    </tr>\n",
       "    <tr>\n",
       "        <td>ALBERTSONS 915</td>\n",
       "        <td>None</td>\n",
       "    </tr>\n",
       "    <tr>\n",
       "        <td>ALBERTSONS 922</td>\n",
       "        <td>None</td>\n",
       "    </tr>\n",
       "    <tr>\n",
       "        <td>ALBERTSONS 924</td>\n",
       "        <td>None</td>\n",
       "    </tr>\n",
       "    <tr>\n",
       "        <td>ALBERTSONS 937</td>\n",
       "        <td>None</td>\n",
       "    </tr>\n",
       "</table>"
      ],
      "text/plain": [
       "[('5 STAR BURGERS', None),\n",
       " ('ABC PRESCHOOL', None),\n",
       " ('ABF FUELING LLC', None),\n",
       " ('ABF FUELING LLC', None),\n",
       " ('ACAPULCO MEXICAN RESTAURANT', None),\n",
       " ('AFC SUSHI AT SMITHS 427', None),\n",
       " ('ALBERTSONS 915', None),\n",
       " ('ALBERTSONS 922', None),\n",
       " ('ALBERTSONS 924', None),\n",
       " ('ALBERTSONS 937', None)]"
      ]
     },
     "execution_count": 19,
     "metadata": {},
     "output_type": "execute_result"
    }
   ],
   "source": [
    "%%sql\n",
    "SELECT FACILITY_NAME, VIOLATION_CODE\n",
    "FROM food\n",
    "WHERE VIOLATION_CODE IS NULL\n",
    "ORDER BY FACILITY_NAME\n",
    "LIMIT 10;"
   ]
  },
  {
   "cell_type": "markdown",
   "metadata": {},
   "source": [
    "WILDCARD query to see certain type of violation description."
   ]
  },
  {
   "cell_type": "code",
   "execution_count": 26,
   "metadata": {
    "collapsed": false
   },
   "outputs": [
    {
     "name": "stdout",
     "output_type": "stream",
     "text": [
      "10 rows affected.\n"
     ]
    },
    {
     "data": {
      "text/html": [
       "<table>\n",
       "    <tr>\n",
       "        <th>facility_name</th>\n",
       "        <th>violation_desc</th>\n",
       "    </tr>\n",
       "    <tr>\n",
       "        <td>7 ELEVEN 705</td>\n",
       "        <td>Improper storage/handling of clean equipment/utens</td>\n",
       "    </tr>\n",
       "    <tr>\n",
       "        <td>7 ELEVEN 710</td>\n",
       "        <td>Improper storage/handling of clean equipment/utens</td>\n",
       "    </tr>\n",
       "    <tr>\n",
       "        <td>7 ELEVEN 711</td>\n",
       "        <td>Improper storage/handling of clean equipment/utens</td>\n",
       "    </tr>\n",
       "    <tr>\n",
       "        <td>99 BANH SUPERMARKET</td>\n",
       "        <td>Improper storage/handling of clean equipment/utens</td>\n",
       "    </tr>\n",
       "    <tr>\n",
       "        <td>99 BANH SUPERMARKET</td>\n",
       "        <td>Improper storage/handling of clean equipment/utens</td>\n",
       "    </tr>\n",
       "    <tr>\n",
       "        <td>99 BANH SUPERMARKET</td>\n",
       "        <td>Improper storage/handling of clean equipment/utens</td>\n",
       "    </tr>\n",
       "    <tr>\n",
       "        <td>ALBERTSONS 928</td>\n",
       "        <td>Improper storage/handling of clean equipment/utens</td>\n",
       "    </tr>\n",
       "    <tr>\n",
       "        <td>ALBUQUERQUE INDIAN CENTER</td>\n",
       "        <td>Improper storage/handling of clean equipment/utens</td>\n",
       "    </tr>\n",
       "    <tr>\n",
       "        <td>ALLSUPS 218</td>\n",
       "        <td>Improper handwashing</td>\n",
       "    </tr>\n",
       "    <tr>\n",
       "        <td>ANODYNE</td>\n",
       "        <td>Barehand Contact with ready to eat food</td>\n",
       "    </tr>\n",
       "</table>"
      ],
      "text/plain": [
       "[('7 ELEVEN 705', 'Improper storage/handling of clean equipment/utens'),\n",
       " ('7 ELEVEN 710', 'Improper storage/handling of clean equipment/utens'),\n",
       " ('7 ELEVEN 711', 'Improper storage/handling of clean equipment/utens'),\n",
       " ('99 BANH SUPERMARKET', 'Improper storage/handling of clean equipment/utens'),\n",
       " ('99 BANH SUPERMARKET', 'Improper storage/handling of clean equipment/utens'),\n",
       " ('99 BANH SUPERMARKET', 'Improper storage/handling of clean equipment/utens'),\n",
       " ('ALBERTSONS 928', 'Improper storage/handling of clean equipment/utens'),\n",
       " ('ALBUQUERQUE INDIAN CENTER', 'Improper storage/handling of clean equipment/utens'),\n",
       " ('ALLSUPS 218', 'Improper handwashing'),\n",
       " ('ANODYNE', 'Barehand Contact with ready to eat food')]"
      ]
     },
     "execution_count": 26,
     "metadata": {},
     "output_type": "execute_result"
    }
   ],
   "source": [
    "%%sql\n",
    "SELECT FACILITY_NAME, VIOLATION_DESC\n",
    "FROM food\n",
    "WHERE VIOLATION_DESC LIKE '%hand%'\n",
    "LIMIT 10;\n"
   ]
  },
  {
   "cell_type": "markdown",
   "metadata": {},
   "source": [
    "## Bonus (10 points)\n",
    "\n",
    "We have seen a few simple techniques for normalizing data in class.  Choose a column or set of columns that might be redundant and normalize them out to another table:\n",
    "\n",
    "* Identify the columns to normalize in the source data table\n",
    "* Create one or more new tables to hold the normalized records\n",
    "* Extract data into the new tables\n",
    "* Re-insert the new foreign key references from the new table into the source table"
   ]
  }
 ],
 "metadata": {
  "anaconda-cloud": {},
  "kernelspec": {
   "display_name": "Python 3",
   "language": "python",
   "name": "python3"
  },
  "language_info": {
   "codemirror_mode": {
    "name": "ipython",
    "version": 3
   },
   "file_extension": ".py",
   "mimetype": "text/x-python",
   "name": "python",
   "nbconvert_exporter": "python",
   "pygments_lexer": "ipython3",
   "version": "3.5.2"
  }
 },
 "nbformat": 4,
 "nbformat_minor": 1
}
